{
 "cells": [
  {
   "cell_type": "code",
   "execution_count": null,
   "id": "00573c15",
   "metadata": {},
   "outputs": [],
   "source": [
    "#classifica cada punto en una categoria basandose en la categoria de sus vecinos mas cercanos"
   ]
  },
  {
   "cell_type": "code",
   "execution_count": null,
   "id": "f30e321d",
   "metadata": {},
   "outputs": [],
   "source": [
    "from sklearn.neighbours import KNeighboursClassifier\n",
    "import numpy as np\n",
    "import pandas as pd\n",
    "\n",
    "df = pd.read_csv(\"archivo\")"
   ]
  },
  {
   "cell_type": "code",
   "execution_count": null,
   "id": "65577574",
   "metadata": {},
   "outputs": [],
   "source": [
    "newdf = df[[\"Airtime\", \"Distance\", \"TaxiOut\", \"ArrDelay\"]].dropna()\n",
    "cols = newdf[newdf.columns[newdf.columns != \"ArrDelay\"]]\n",
    "#todas aquellas columnas que no son nuestra variable respuesta"
   ]
  },
  {
   "cell_type": "code",
   "execution_count": null,
   "id": "5329b8ad",
   "metadata": {},
   "outputs": [],
   "source": [
    "filtro = newdf[\"ArrDelay\"] > 10"
   ]
  },
  {
   "cell_type": "code",
   "execution_count": null,
   "id": "de2f3ec2",
   "metadata": {},
   "outputs": [],
   "source": [
    "newdf[\"ArrDelay\"][filtro] = \"Delayed\"\n",
    "newdf[\"ArrDelay\"][filtro == Flase] = \"Not Delayed\""
   ]
  },
  {
   "cell_type": "code",
   "execution_count": null,
   "id": "fc6799fc",
   "metadata": {},
   "outputs": [],
   "source": [
    "#ver los 5 primeros casos\n",
    "newdf[\"ArrDelay\"].head(5)"
   ]
  },
  {
   "cell_type": "code",
   "execution_count": null,
   "id": "b86b1999",
   "metadata": {},
   "outputs": [],
   "source": [
    "nbrs_3 = KNeighboursClassifier(n_neighbours=3, n_jobs=-1) #creamos el objeto\n",
    "\n",
    "nbrs_3.fit(cols, newdf[\"ArrDelay\"]) #entrenamos el modelo"
   ]
  },
  {
   "cell_type": "code",
   "execution_count": null,
   "id": "6bec0380",
   "metadata": {},
   "outputs": [],
   "source": [
    "predicciones_3 = nbrs_3.predict(cols) #obtenemos las predicciones con nuestro modelo"
   ]
  },
  {
   "cell_type": "code",
   "execution_count": null,
   "id": "987df64e",
   "metadata": {},
   "outputs": [],
   "source": [
    "np.mean(predicciones_3 == newdf[\"ArrDelay\"])\n",
    "#porcentaje de vuelos clasificados correctamente usando los 3 vecinos mas cercanos"
   ]
  },
  {
   "cell_type": "code",
   "execution_count": null,
   "id": "7ccc155b",
   "metadata": {},
   "outputs": [],
   "source": [
    "#para ver la proporcion de los casos en nuestra bbdd\n",
    "np.mean(newdf[\"ArrDelay\"] == \"Not Delayed\")"
   ]
  },
  {
   "cell_type": "code",
   "execution_count": null,
   "id": "c84c9200",
   "metadata": {},
   "outputs": [],
   "source": [
    "#explorar la matriz de confusion para ver como de bien hemos predicho nuestros casos\n",
    "from sklearn.metrics import confusion_matrix\n",
    "confusion_matrix = confusion_matrix(newdf[\"ArrDelay\"], predicciones_3)\n",
    "print(confusion_matrix)"
   ]
  }
 ],
 "metadata": {
  "kernelspec": {
   "display_name": "Python 3",
   "language": "python",
   "name": "python3"
  },
  "language_info": {
   "codemirror_mode": {
    "name": "ipython",
    "version": 3
   },
   "file_extension": ".py",
   "mimetype": "text/x-python",
   "name": "python",
   "nbconvert_exporter": "python",
   "pygments_lexer": "ipython3",
   "version": "3.8.8"
  }
 },
 "nbformat": 4,
 "nbformat_minor": 5
}
