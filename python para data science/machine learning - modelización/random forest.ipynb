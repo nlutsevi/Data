{
 "cells": [
  {
   "cell_type": "code",
   "execution_count": null,
   "id": "b74ef22a",
   "metadata": {},
   "outputs": [],
   "source": [
    "#es un conjunto de cientos o miles de arboles\n",
    "#selecciona aleatoriamente observaciones de la base de datos\n",
    "#selecciona aleatoriamente las variables\n",
    "\n",
    "#En resumen: crea nuevos arboles de regresion o clasificacion con datos\n",
    "#diferentes en cada caso"
   ]
  },
  {
   "cell_type": "code",
   "execution_count": null,
   "id": "94d29d8e",
   "metadata": {},
   "outputs": [],
   "source": [
    "from sklearn import tree\n",
    "import numpy as np\n",
    "import pandas as pd\n",
    "from sklearn.ensemble import RandomForestClassifier\n",
    "\n",
    "df = pd.read_csv(\"archivo\")\n",
    "df = df.dropna(subset=[\"ArrDelay\"])\n",
    "df = df.sample(frac=1)\n",
    "dftest = df.tail(500000)\n",
    "df = df.head(500000)"
   ]
  },
  {
   "cell_type": "code",
   "execution_count": null,
   "id": "cd2b4267",
   "metadata": {},
   "outputs": [],
   "source": [
    "clf = tree.DesicionTreeClassifier() #creamos el objeto\n",
    "\n",
    "#variables que vamos a usar como regresores de nuestro modelo\n",
    "X = df[[\"Distance\", \"AirTime\", \"DepTime\", \"TaxiIn\", \"TaxiOut\", \"DepDelay\"]]\n",
    "X_test = dftest[[\"Distance\", \"AirTime\", \"DepTime\", \"TaxiIn\", \"TaxiOut\", \"DepDelay\"]]\n",
    "Y = df[\"ArrDelay\"] > 10\n",
    "Y_test = dftest[\"ArrDelay\"] > 10\n",
    "\n",
    "clf = clf.fit(X,Y) #entrenamos el modelo\n",
    "Y_Pred_test = clf.predict(X_test)"
   ]
  },
  {
   "cell_type": "code",
   "execution_count": null,
   "id": "a671abe6",
   "metadata": {},
   "outputs": [],
   "source": [
    "#potencial predictivo del modelo\n",
    "np.mean(Y_test == Y_pred_test)"
   ]
  },
  {
   "cell_type": "code",
   "execution_count": null,
   "id": "ef17eddd",
   "metadata": {},
   "outputs": [],
   "source": [
    "clf = RandomForestClassifier(n_estimators = 100, n_jobs= -1) #100 arboles\n",
    "clf.fit(X,Y)\n",
    "Y_Pred_test = clf.predict(X_Test)\n",
    "\n",
    "clf.feature_importances_\n",
    "#classificar la importancia de cada una de las variables que hemos utilizado"
   ]
  },
  {
   "cell_type": "code",
   "execution_count": null,
   "id": "543b0e49",
   "metadata": {},
   "outputs": [],
   "source": [
    "np.mean(Y_test == Y_pred_test)"
   ]
  }
 ],
 "metadata": {
  "kernelspec": {
   "display_name": "Python 3",
   "language": "python",
   "name": "python3"
  },
  "language_info": {
   "codemirror_mode": {
    "name": "ipython",
    "version": 3
   },
   "file_extension": ".py",
   "mimetype": "text/x-python",
   "name": "python",
   "nbconvert_exporter": "python",
   "pygments_lexer": "ipython3",
   "version": "3.8.8"
  }
 },
 "nbformat": 4,
 "nbformat_minor": 5
}
