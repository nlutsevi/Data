{
 "cells": [
  {
   "cell_type": "code",
   "execution_count": null,
   "id": "88ce0a83",
   "metadata": {},
   "outputs": [],
   "source": [
    "import pandas as pd\n",
    "import numpy as np\n",
    "from sklearn.linear_model import LogisticRegression\n",
    "from sklearn.metric import confusion_matrix\n",
    "import matplotlib.pyplot as plt\n",
    "\n",
    "df = pd.read_csv(\"archivo\")"
   ]
  },
  {
   "cell_type": "code",
   "execution_count": null,
   "id": "35505799",
   "metadata": {},
   "outputs": [],
   "source": [
    "df = df.dropna(subset= [\"ArrDelay\"])\n",
    "df = df.sample(frac=1).head(100000) #frac=1 - fracción aleatoria de nuestro dataframe\n",
    "Y = df[\"ArrDelay\"] < 30 #vuelos sin retraso notable de llegada\n",
    "X = df[[\"DepDelay\"]]"
   ]
  },
  {
   "cell_type": "code",
   "execution_count": null,
   "id": "b6a05906",
   "metadata": {},
   "outputs": [],
   "source": [
    "logreg = LogisticRegression() #creamos el modelo\n",
    "logreg.fit(X,Y) #ajustamos el modelo\n",
    "Y_Pred = logreg.predict(X) #obtenemos las predicciones"
   ]
  },
  {
   "cell_type": "code",
   "execution_count": null,
   "id": "73a62351",
   "metadata": {},
   "outputs": [],
   "source": [
    "np.round(logreg.predict_proba(X),3)"
   ]
  },
  {
   "cell_type": "code",
   "execution_count": null,
   "id": "f24d0308",
   "metadata": {},
   "outputs": [],
   "source": [
    "np.mean(Y_Pred == Y)\n",
    "#la media de nuestros valores"
   ]
  },
  {
   "cell_type": "code",
   "execution_count": null,
   "id": "efe679a5",
   "metadata": {},
   "outputs": [],
   "source": [
    "confusion_matrix = confusion_matrix(Y, Y_Pred)\n",
    "print(confusion_matrix)\n",
    "#la primera fila y primera columna son los casos que eran FALSE y nuestro modelo ha predico como FALSE\n",
    "#la segunda fila y primera columna son los casos que eran TRUE y nuestro modelo ha dicho que eran FALSE\n",
    "#la primera fila y segunda columna son los casos que eran TRUE y nuestro modelo ha dicho que eras FALSE\n",
    "#la segunda fila y segunda columna son los casos que eran TRUE y nuestro modelo ha dicho que eran TRUE"
   ]
  }
 ],
 "metadata": {
  "kernelspec": {
   "display_name": "Python 3",
   "language": "python",
   "name": "python3"
  },
  "language_info": {
   "codemirror_mode": {
    "name": "ipython",
    "version": 3
   },
   "file_extension": ".py",
   "mimetype": "text/x-python",
   "name": "python",
   "nbconvert_exporter": "python",
   "pygments_lexer": "ipython3",
   "version": "3.8.8"
  }
 },
 "nbformat": 4,
 "nbformat_minor": 5
}
