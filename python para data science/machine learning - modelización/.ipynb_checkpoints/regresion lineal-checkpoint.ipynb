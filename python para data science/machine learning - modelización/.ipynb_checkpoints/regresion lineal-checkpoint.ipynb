{
 "cells": [
  {
   "cell_type": "code",
   "execution_count": null,
   "id": "0b137166",
   "metadata": {},
   "outputs": [],
   "source": [
    "import pandas as pd\n",
    "import numpy as np\n",
    "from sklearn import datasets, linear_model\n",
    "from sklearn.metrics import mean_squared_error, r2_score\n",
    "import matplotlib.pyplot as plt\n",
    "\n",
    "df = pd.read_csv(\"archivo\")"
   ]
  },
  {
   "cell_type": "code",
   "execution_count": null,
   "id": "5bc0fdd0",
   "metadata": {},
   "outputs": [],
   "source": [
    "df = df.dropna(subset=[\"ArrDelay\"])\n",
    "df = df.sample(frac=1).head(100000)\n",
    "Y = df[\"ArrDelay\"]\n",
    "X = df[[\"DepDelay\"]]"
   ]
  },
  {
   "cell_type": "code",
   "execution_count": null,
   "id": "ad8818e7",
   "metadata": {},
   "outputs": [],
   "source": [
    "df.columns"
   ]
  },
  {
   "cell_type": "code",
   "execution_count": null,
   "id": "ae245c3f",
   "metadata": {},
   "outputs": [],
   "source": [
    "regr = linear_model.LinearRegression()\n",
    "regr.fit(X,Y)\n",
    "#ajustar el modelo\n",
    "\n",
    "print(\"Coeficientes: \", regr.coef_) #imprimir el valor de las betas\n",
    "Y_pred = regr.predict(X) #encontrar las predicciones\n",
    "print(\"R Cuadrado: \", r2_score(Y, Y_pred)) #aproximación de cómo de bueno es nuestro modelo\n",
    "#cuando el valor es más proximo a 1 es un modelo mejor, cuando es mas proximo a 0 es un modelo peor"
   ]
  },
  {
   "cell_type": "code",
   "execution_count": null,
   "id": "559595d1",
   "metadata": {},
   "outputs": [],
   "source": [
    "#mostrar los resultados graficamente\n",
    "plt.scatter(X[1:10000], Y[1:10000], color = \"black\")\n",
    "plt.plot(X[1:10000], Y_Pred[1:10000], color = \"blue\")\n",
    "plt.show()"
   ]
  },
  {
   "cell_type": "code",
   "execution_count": null,
   "id": "76588310",
   "metadata": {},
   "outputs": [],
   "source": [
    "#ajustar modelos cuando las variables regresoras(las X) son categoricas\n",
    "\n",
    "X = df[[\"AirTime\", \"Distance\", \"TaxiIn\", \"TaxiOut\"]]\n",
    "#variables cuantitativas - no ofrecen problemas\n",
    "\n",
    "df[\"Month\"] = df[\"Month\"].apply(str)\n",
    "df[\"DayofMonth\"] = df[\"DayofMonth\"].apply(str)\n",
    "df[\"DayofWeek\"] = df[\"DayofWeek\"].apply(str)\n",
    "#tenemos que pasarlas a str porque son variables categoricas\n",
    "\n",
    "dummies = pd.get_dummies(data=df[['Month', 'DayofMonth', 'DayofWeek', 'Origin', 'Dest']])\n",
    "#convertimos nuestras variables categoricas en dummies (variable que tome el \n",
    "#valor 1 o 0 en función de si aparece en la categoria que estamos estudiando)\n",
    "X = dummies.add(X, fill_value=0)\n"
   ]
  },
  {
   "cell_type": "code",
   "execution_count": null,
   "id": "11059b60",
   "metadata": {},
   "outputs": [],
   "source": [
    "X.columns"
   ]
  },
  {
   "cell_type": "code",
   "execution_count": null,
   "id": "8cbfe1c6",
   "metadata": {},
   "outputs": [],
   "source": [
    "regr = linear_model.LinearRegression()\n",
    "regr.fit(X,Y)\n",
    "#ajustar el modelo\n",
    "\n",
    "#print(\"Coeficientes: \", regr.coef_) #imprimir el valor de las betas\n",
    "Y_pred = regr.predict(X) #encontrar las predicciones\n",
    "print(\"R Cuadrado: \", r2_score(Y, Y_pred)) #aproximación de cómo de bueno es nuestro modelo\n",
    "#cuando el valor es más proximo a 1 es un modelo mejor, cuando es mas proximo a 0 es un modelo peor"
   ]
  },
  {
   "cell_type": "code",
   "execution_count": null,
   "id": "9efa2fa0",
   "metadata": {},
   "outputs": [],
   "source": [
    "X.X.add(df[[\"DepDelay\"]],fill_value=0)"
   ]
  },
  {
   "cell_type": "code",
   "execution_count": null,
   "id": "f3344e6a",
   "metadata": {},
   "outputs": [],
   "source": [
    "regr = linear_model.LinearRegression()\n",
    "regr.fit(X,Y)\n",
    "#ajustar el modelo\n",
    "\n",
    "#print(\"Coeficientes: \", regr.coef_) #imprimir el valor de las betas\n",
    "Y_pred = regr.predict(X) #encontrar las predicciones\n",
    "print(\"R Cuadrado: \", r2_score(Y, Y_pred)) #aproximación de cómo de bueno es nuestro modelo\n",
    "#cuando el valor es más proximo a 1 es un modelo mejor, cuando es mas proximo a 0 es un modelo peor"
   ]
  }
 ],
 "metadata": {
  "kernelspec": {
   "display_name": "Python 3",
   "language": "python",
   "name": "python3"
  },
  "language_info": {
   "codemirror_mode": {
    "name": "ipython",
    "version": 3
   },
   "file_extension": ".py",
   "mimetype": "text/x-python",
   "name": "python",
   "nbconvert_exporter": "python",
   "pygments_lexer": "ipython3",
   "version": "3.8.8"
  }
 },
 "nbformat": 4,
 "nbformat_minor": 5
}
