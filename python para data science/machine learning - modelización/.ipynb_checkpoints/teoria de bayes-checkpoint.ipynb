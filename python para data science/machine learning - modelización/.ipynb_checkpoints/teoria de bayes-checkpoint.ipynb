{
 "cells": [
  {
   "cell_type": "code",
   "execution_count": null,
   "id": "e612f817",
   "metadata": {},
   "outputs": [],
   "source": [
    "from sklearn.naive_bayes import BernoulliNB\n",
    "from sklearn.naive_bayes import MultinomialNB\n",
    "from sklearn.naive_bayes import GaussianNB\n",
    "import numpy as np\n",
    "import pandas as pd\n",
    "\n",
    "df = pd.read_csv(\"archivo\")\n",
    "df = df.sample(frac=1)\n",
    "df = df.head(500000)"
   ]
  },
  {
   "cell_type": "code",
   "execution_count": null,
   "id": "27abcf3f",
   "metadata": {},
   "outputs": [],
   "source": [
    "df = df.dropna(subset=[\"ArrDelay\"])"
   ]
  },
  {
   "cell_type": "code",
   "execution_count": null,
   "id": "b7542c3e",
   "metadata": {},
   "outputs": [],
   "source": [
    "Y = df[\"ArrDelay\"] > 0"
   ]
  },
  {
   "cell_type": "code",
   "execution_count": null,
   "id": "789004f5",
   "metadata": {},
   "outputs": [],
   "source": [
    "df[\"Month\"] = df[\"Month\"].apply(str)\n",
    "df[\"DayofMonth\"] = df[\"DayofMonth\"].apply(str)\n",
    "df[\"DayofWeek\"] = df[\"DayofWeek\"].apply(str)\n",
    "df[\"TailNum\"] = df[\"TailNum\"].apply(str)\n",
    "\n",
    "X = pd.get_dummies(data=df[[\"Month\", \"DayofMonth\", \"DayofWeek\", \"TailNum\", \"Origin\", \"Dest\", \"UniqueCarrier\"]])"
   ]
  },
  {
   "cell_type": "code",
   "execution_count": null,
   "id": "935da08f",
   "metadata": {},
   "outputs": [],
   "source": [
    "X.head()"
   ]
  },
  {
   "cell_type": "code",
   "execution_count": null,
   "id": "1a6fa134",
   "metadata": {},
   "outputs": [],
   "source": [
    "clf = BernoulliNB() #construimos el objeto\n",
    "clf.fit(X,Y) #ajustamos la predicción\n",
    "Y_Pred = clf.predict(X) #predecimos los datos"
   ]
  },
  {
   "cell_type": "code",
   "execution_count": null,
   "id": "3e6c224b",
   "metadata": {},
   "outputs": [],
   "source": [
    "np.mean(Y == Y_Pred) #classificamos correctamente los casos"
   ]
  },
  {
   "cell_type": "code",
   "execution_count": null,
   "id": "b7ef3d6f",
   "metadata": {},
   "outputs": [],
   "source": [
    "1 - np.mean(Y) #comparamos con la media general de todos los casos"
   ]
  },
  {
   "cell_type": "code",
   "execution_count": null,
   "id": "03008c83",
   "metadata": {},
   "outputs": [],
   "source": [
    "#ajustamos las variables numericas\n",
    "X = df[[\"AirTime\", \"Distance\", \"TaxiIn\"]]\n",
    "clf = GaussianNB() #ajustar el modelo Gausiano\n",
    "clf.fit(X, Y)\n",
    "Y_Pred = clf.predict(X)"
   ]
  },
  {
   "cell_type": "code",
   "execution_count": null,
   "id": "2f653370",
   "metadata": {},
   "outputs": [],
   "source": [
    "np.mean(Y == Y_Pred)"
   ]
  },
  {
   "cell_type": "code",
   "execution_count": null,
   "id": "6d5aaede",
   "metadata": {},
   "outputs": [],
   "source": [
    "1 - np.mean(Y)"
   ]
  }
 ],
 "metadata": {
  "kernelspec": {
   "display_name": "Python 3",
   "language": "python",
   "name": "python3"
  },
  "language_info": {
   "codemirror_mode": {
    "name": "ipython",
    "version": 3
   },
   "file_extension": ".py",
   "mimetype": "text/x-python",
   "name": "python",
   "nbconvert_exporter": "python",
   "pygments_lexer": "ipython3",
   "version": "3.8.8"
  }
 },
 "nbformat": 4,
 "nbformat_minor": 5
}
