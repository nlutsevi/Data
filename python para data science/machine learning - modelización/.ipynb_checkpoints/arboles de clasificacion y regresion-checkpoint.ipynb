{
 "cells": [
  {
   "cell_type": "code",
   "execution_count": null,
   "id": "f55c1ad8",
   "metadata": {},
   "outputs": [],
   "source": [
    "from sklearn import tree\n",
    "import numpy as np\n",
    "import pandas as pd\n",
    "from sklearn.metrics import r2_score\n",
    "\n",
    "df = read_csv(\"archivo\")\n",
    "df = df.dropna(subset=[\"ArrDelay\"])\n",
    "df = df.sample(frac=1)\n",
    "dftest = df.tail(500000) #ultimo medio millon de casos\n",
    "df = df.head(500000) #primer medio millon de casos"
   ]
  },
  {
   "cell_type": "code",
   "execution_count": null,
   "id": "b6fba084",
   "metadata": {},
   "outputs": [],
   "source": [
    "clf = tree.DesicionTreeClassifier() #crear objeto arbol de classificacion\n",
    "\n",
    "X = df[[\"Distance\", \"AirTime\", \"DepTime\", \"TaxiIn\", \"TaxiOut\", \"DepDelay\"]]\n",
    "X_test = dftest[[\"Distance\", \"AirTime\", \"DepTime\", \"TaxiIn\", \"TaxiOut\", \"DepDelay\"]]\n",
    "Y = df[\"ArrDelay\"] > 10\n",
    "Y_test = dftest[\"ArrDelay\"] > 10\n",
    "\n",
    "clf = clf.fit(X, Y) #entrenar el objeto\n",
    "Y_Pred = clf.predict(X) #obtener predicciones con nuestros datos\n",
    "Y_Pred_test = clf.predict(X_test)"
   ]
  },
  {
   "cell_type": "code",
   "execution_count": null,
   "id": "c90b8f92",
   "metadata": {},
   "outputs": [],
   "source": [
    "#comprobar el porcentaje de datos que classifica correctamente nuestro modelo -\n",
    "#fuera de base de datos de entrenamiento\n",
    "np.mean(Y_test == Y_Pred_test)"
   ]
  }
 ],
 "metadata": {
  "kernelspec": {
   "display_name": "Python 3",
   "language": "python",
   "name": "python3"
  },
  "language_info": {
   "codemirror_mode": {
    "name": "ipython",
    "version": 3
   },
   "file_extension": ".py",
   "mimetype": "text/x-python",
   "name": "python",
   "nbconvert_exporter": "python",
   "pygments_lexer": "ipython3",
   "version": "3.8.8"
  }
 },
 "nbformat": 4,
 "nbformat_minor": 5
}
