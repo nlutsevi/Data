{
 "cells": [
  {
   "cell_type": "code",
   "execution_count": null,
   "id": "44fca022",
   "metadata": {},
   "outputs": [],
   "source": [
    "#Divide los grupos de puntos mediante una recta. Intentando maximizar la distancia\n",
    "#de los puntos mas cercanos a la recta por ambos lados"
   ]
  },
  {
   "cell_type": "code",
   "execution_count": null,
   "id": "7d1fc143",
   "metadata": {},
   "outputs": [],
   "source": [
    "from sklearn.svc import svc\n",
    "import numpy as np\n",
    "import pandas as pd\n",
    "\n",
    "df = pd.read_csv(\"archivo\")\n",
    "df = dropna(subset=[\"ArrDelay\"])\n",
    "df = df.sample(frac=1)\n",
    "df_test = df.tail(1000)\n",
    "df = df.head(1000)"
   ]
  },
  {
   "cell_type": "code",
   "execution_count": null,
   "id": "4cf4d050",
   "metadata": {},
   "outputs": [],
   "source": [
    "X = df[[\"Distance\", \"AirTime\", \"DepTime\", \"TaxiIn\", \"TaxiOut\", \"DepDelay\"]]\n",
    "X_test = df_test[[\"Distance\", \"AirTime\", \"DepTime\", \"TaxiIn\", \"TaxiOut\", \"DepDelay\"]]\n",
    "\n",
    "Y = df[\"ArrDelay\"] > 10\n",
    "Y_test = df_test[\"ArrDelay\"] > 10\n",
    "\n",
    "clf = svc(kernel = \"linear\")\n",
    "clf.fit(X,Y)\n",
    "\n",
    "Y_Pred = clf.predict(X_test)\n",
    "\n",
    "# linear / poly / rbf / sigmoid"
   ]
  },
  {
   "cell_type": "code",
   "execution_count": null,
   "id": "2d23515d",
   "metadata": {},
   "outputs": [],
   "source": [
    "np.mean(Y == Y_Pred)"
   ]
  }
 ],
 "metadata": {
  "kernelspec": {
   "display_name": "Python 3",
   "language": "python",
   "name": "python3"
  },
  "language_info": {
   "codemirror_mode": {
    "name": "ipython",
    "version": 3
   },
   "file_extension": ".py",
   "mimetype": "text/x-python",
   "name": "python",
   "nbconvert_exporter": "python",
   "pygments_lexer": "ipython3",
   "version": "3.8.8"
  }
 },
 "nbformat": 4,
 "nbformat_minor": 5
}
