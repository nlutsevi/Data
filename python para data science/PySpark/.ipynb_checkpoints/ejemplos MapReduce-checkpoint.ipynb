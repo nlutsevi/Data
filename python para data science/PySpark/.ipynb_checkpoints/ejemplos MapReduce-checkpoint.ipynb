{
 "cells": [
  {
   "cell_type": "code",
   "execution_count": 1,
   "id": "769aa778",
   "metadata": {},
   "outputs": [],
   "source": [
    "from pyspark import SparkConf, SparkContext\n",
    "from pyspark.sql.types import StringType\n",
    "from pyspark import SQLContext\n",
    "\n",
    "conf = SparkConf().setMaster(\"local\").setAppName(\"Mi programa\")\n",
    "sc = SparkContext(conf = conf)\n",
    "sqlContext = SQLContext(sc)"
   ]
  },
  {
   "cell_type": "code",
   "execution_count": 2,
   "id": "f741b13b",
   "metadata": {},
   "outputs": [
    {
     "data": {
      "text/plain": [
       "1"
      ]
     },
     "execution_count": 2,
     "metadata": {},
     "output_type": "execute_result"
    }
   ],
   "source": [
    "lines = sc.textFile(\"wiki.txt\")\n",
    "lines.getNumPartitions()"
   ]
  },
  {
   "cell_type": "code",
   "execution_count": 3,
   "id": "7bb25a7b",
   "metadata": {},
   "outputs": [],
   "source": [
    "py = sc.accumulator(0)\n",
    "sp = sc.accumulator(0)\n",
    "\n",
    "def languages(line):\n",
    "    global py, sp\n",
    "    if \"Python\" in line:\n",
    "        py += 1\n",
    "        if \"Spark\" in line:\n",
    "            sp += 1\n",
    "            return True\n",
    "    elif \"Spark\" in line:\n",
    "        sp += 1\n",
    "        return True\n",
    "    else:\n",
    "        return False"
   ]
  },
  {
   "cell_type": "code",
   "execution_count": 4,
   "id": "0de1ecaf",
   "metadata": {},
   "outputs": [],
   "source": [
    "valores = lines.filter(languages)"
   ]
  },
  {
   "cell_type": "code",
   "execution_count": 5,
   "id": "9440c5a6",
   "metadata": {},
   "outputs": [
    {
     "data": {
      "text/plain": [
       "5"
      ]
     },
     "execution_count": 5,
     "metadata": {},
     "output_type": "execute_result"
    }
   ],
   "source": [
    "valores.count()"
   ]
  },
  {
   "cell_type": "code",
   "execution_count": 6,
   "id": "af862d48",
   "metadata": {},
   "outputs": [],
   "source": [
    "functionmap = valores.map(lambda x: (x,1))"
   ]
  },
  {
   "cell_type": "code",
   "execution_count": 7,
   "id": "2f8531fd",
   "metadata": {},
   "outputs": [],
   "source": [
    "contarvalores = functionmap.reduceByKey(lambda x,y: x+y)"
   ]
  },
  {
   "cell_type": "code",
   "execution_count": 8,
   "id": "f3b67a9a",
   "metadata": {},
   "outputs": [
    {
     "data": {
      "text/plain": [
       "5"
      ]
     },
     "execution_count": 8,
     "metadata": {},
     "output_type": "execute_result"
    }
   ],
   "source": [
    "contarvalores.count()"
   ]
  },
  {
   "cell_type": "code",
   "execution_count": 9,
   "id": "bd4ef23c",
   "metadata": {},
   "outputs": [
    {
     "data": {
      "text/plain": [
       "[('Apache Spark és una plataforma de codi obert orientat', 1),\n",
       " (\"L'arquitectura d'Apache Spark està basada en el concepte de RDD (Resilient Distributed Dataset), un conjunt de dades immutable distribuït al voltant d'un clúster.[4] Sobre aquesta idea fonamental, es van anar creant capes d'abstracció per a facilitar les tasques de programació i control, utilitzant per exemple el concepte de dataset (joc de dades). Així doncs, com a API es recomana la interfície orientada a datasets des de la versió Spark 2.x[5] malgrat que la orientada a RDD segueix existint.[6][7]\",\n",
       "  1),\n",
       " (\"casos ideals per a treballar amb Spark: l'anàlisi exploratori d'un conjunt de \",\n",
       "  1),\n",
       " ('Apache Spark necessitarà en qualsevol cas coordinar-se amb el clúster de ',\n",
       "  1),\n",
       " ('maquinari sobre el que treballi. Per a aquesta finalitat, Spark suporta Hadoop ',\n",
       "  1)]"
      ]
     },
     "execution_count": 9,
     "metadata": {},
     "output_type": "execute_result"
    }
   ],
   "source": [
    "contarvalores.sortBy(lambda x: x[1], ascending=False).take(5)"
   ]
  },
  {
   "cell_type": "code",
   "execution_count": 13,
   "id": "ea0757e5",
   "metadata": {},
   "outputs": [],
   "source": [
    "def languages_map(x):\n",
    "    if \"Python\" in x and \"Spark\" in x:\n",
    "        return (\"Count\", (1,1))\n",
    "    elif \"Python\" in x:\n",
    "        return (\"Count\", (1, 0))\n",
    "    elif \"Spark\" in x:\n",
    "        return (\"Count\", (0,1))\n",
    "    else:\n",
    "        return (\"Count\", (0,0))\n",
    "    \n",
    "mapfun = lines.map(languages_map)"
   ]
  },
  {
   "cell_type": "code",
   "execution_count": 14,
   "id": "6ec22c82",
   "metadata": {},
   "outputs": [
    {
     "data": {
      "text/plain": [
       "40"
      ]
     },
     "execution_count": 14,
     "metadata": {},
     "output_type": "execute_result"
    }
   ],
   "source": [
    "mapfun.count()"
   ]
  },
  {
   "cell_type": "code",
   "execution_count": 15,
   "id": "bc0a3936",
   "metadata": {},
   "outputs": [
    {
     "data": {
      "text/plain": [
       "[('Count', (0, 5))]"
      ]
     },
     "execution_count": 15,
     "metadata": {},
     "output_type": "execute_result"
    }
   ],
   "source": [
    "mapfun.reduceByKey(lambda x,y: (x[0]+y[0], x[1]+y[1])).collect()"
   ]
  }
 ],
 "metadata": {
  "kernelspec": {
   "display_name": "Python 3",
   "language": "python",
   "name": "python3"
  },
  "language_info": {
   "codemirror_mode": {
    "name": "ipython",
    "version": 3
   },
   "file_extension": ".py",
   "mimetype": "text/x-python",
   "name": "python",
   "nbconvert_exporter": "python",
   "pygments_lexer": "ipython3",
   "version": "3.8.8"
  }
 },
 "nbformat": 4,
 "nbformat_minor": 5
}
