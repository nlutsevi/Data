{
 "cells": [
  {
   "cell_type": "code",
   "execution_count": 1,
   "id": "f7c26d86",
   "metadata": {},
   "outputs": [],
   "source": [
    "from pyspark import SparkConf, SparkContext\n",
    "conf = SparkConf().setMaster(\"local\").setAppName(\"Mi programa\")\n",
    "sc = SparkContext(conf = conf)"
   ]
  },
  {
   "cell_type": "code",
   "execution_count": 3,
   "id": "596e18a6",
   "metadata": {},
   "outputs": [],
   "source": [
    "x = sc.parallelize([(\"a\", 5), (\"b\", 6), (\"c\", 7), (\"d\", 8)])\n",
    "y = sc.parallelize([(\"a\", 1), (\"a\", 2), (\"c\", 3)])\n",
    "#creamos los objetos x y y(que constan de claves y valor)"
   ]
  },
  {
   "cell_type": "code",
   "execution_count": 4,
   "id": "98e64d01",
   "metadata": {},
   "outputs": [
    {
     "data": {
      "text/plain": [
       "[('c', (7, 3)), ('a', (5, 1)), ('a', (5, 2))]"
      ]
     },
     "execution_count": 4,
     "metadata": {},
     "output_type": "execute_result"
    }
   ],
   "source": [
    "x.join(y).collect()"
   ]
  },
  {
   "cell_type": "code",
   "execution_count": 5,
   "id": "68a0b008",
   "metadata": {},
   "outputs": [
    {
     "data": {
      "text/plain": [
       "[('c', (3, 7)), ('a', (1, 5)), ('a', (2, 5))]"
      ]
     },
     "execution_count": 5,
     "metadata": {},
     "output_type": "execute_result"
    }
   ],
   "source": [
    "y.join(x).collect()"
   ]
  },
  {
   "cell_type": "code",
   "execution_count": 6,
   "id": "29be3cdc",
   "metadata": {},
   "outputs": [
    {
     "data": {
      "text/plain": [
       "[('c', (3, 7)), ('a', (1, 5)), ('a', (2, 5))]"
      ]
     },
     "execution_count": 6,
     "metadata": {},
     "output_type": "execute_result"
    }
   ],
   "source": [
    "y.leftOuterJoin(x).collect()"
   ]
  },
  {
   "cell_type": "code",
   "execution_count": 7,
   "id": "6a428350",
   "metadata": {},
   "outputs": [
    {
     "data": {
      "text/plain": [
       "[('b', (6, None)),\n",
       " ('c', (7, 3)),\n",
       " ('d', (8, None)),\n",
       " ('a', (5, 1)),\n",
       " ('a', (5, 2))]"
      ]
     },
     "execution_count": 7,
     "metadata": {},
     "output_type": "execute_result"
    }
   ],
   "source": [
    "x.leftOuterJoin(y).collect()\n",
    "#forzamos que aparezcan todas las claves de nuestro objeto"
   ]
  },
  {
   "cell_type": "code",
   "execution_count": 8,
   "id": "378efa2a",
   "metadata": {},
   "outputs": [
    {
     "data": {
      "text/plain": [
       "[('c', (3, 7)),\n",
       " ('b', (None, 6)),\n",
       " ('d', (None, 8)),\n",
       " ('a', (1, 5)),\n",
       " ('a', (2, 5))]"
      ]
     },
     "execution_count": 8,
     "metadata": {},
     "output_type": "execute_result"
    }
   ],
   "source": [
    "y.rightOuterJoin(x).collect()"
   ]
  },
  {
   "cell_type": "code",
   "execution_count": null,
   "id": "57f117da",
   "metadata": {},
   "outputs": [],
   "source": []
  }
 ],
 "metadata": {
  "kernelspec": {
   "display_name": "Python 3",
   "language": "python",
   "name": "python3"
  },
  "language_info": {
   "codemirror_mode": {
    "name": "ipython",
    "version": 3
   },
   "file_extension": ".py",
   "mimetype": "text/x-python",
   "name": "python",
   "nbconvert_exporter": "python",
   "pygments_lexer": "ipython3",
   "version": "3.8.8"
  }
 },
 "nbformat": 4,
 "nbformat_minor": 5
}
