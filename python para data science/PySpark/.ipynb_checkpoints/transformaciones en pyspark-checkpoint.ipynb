{
 "cells": [
  {
   "cell_type": "code",
   "execution_count": null,
   "id": "5794f684",
   "metadata": {},
   "outputs": [],
   "source": [
    "from pyspark import SparkConf, SparkContext\n",
    "from pyspark.sql.types import StringType\n",
    "from pyspark import SQLContext\n",
    "import numpy as np\n",
    "\n",
    "conf = SparkConf().setMasrter(\"local\").setAppName(\"Mi programa\")\n",
    "sc = SparkContext (conf == conf)\n",
    "sqlContext = SQLContext(sc)\n",
    "\n",
    "dfspark = sqlContext.read.format(\"csv\").option(\"header\", \"true\").option(\"interSchema\", \"true\").load(\"archivo\")\n",
    "dfspark = dfspark.sample(fraction=0.001, withReplacement=False)\n",
    "dfspark = dfspark.withColumn(\"ArrDelay\", dfspark[\"ArrDelay\"].cast(\"integer\"))\n",
    "\n",
    "df2 = dfspark.na.drop(subset=[\"ArrDelay\", \"DepDelay\", \"Distance\"])\n",
    "df2 = df2.filter(\"ArrDelay is not NULL\")\n",
    "df2 = df2dropDuplicates()"
   ]
  },
  {
   "cell_type": "code",
   "execution_count": null,
   "id": "54a4f1c4",
   "metadata": {},
   "outputs": [],
   "source": [
    "df2.select(\"ArrDelay\").filter(\"ArrDelay > 60\").take\n",
    "#filtramos los datos: obtenemos 5 casos en los que el retraso haya sido mas de una hora\n",
    "#solamente devuelve los valores"
   ]
  },
  {
   "cell_type": "code",
   "execution_count": null,
   "id": "27159aae",
   "metadata": {},
   "outputs": [],
   "source": [
    "df2.filter(\"ArrDelay > 60\").take(5)\n",
    "#omitir select si queremos toda la fila"
   ]
  },
  {
   "cell_type": "code",
   "execution_count": null,
   "id": "b173d58e",
   "metadata": {},
   "outputs": [],
   "source": [
    "media = np.mean(df2.select(\"ArrDelay\").collect())\n",
    "#media de la columna\n",
    "df2.select(\"ArrDelay\").rdd.map(lambda x: (x - media)**2).take(10)\n",
    "#rdd.map para aplicar una funcion a la columna (calcular distancia al cuadrado)\n",
    "#en relación a la media que hemos calculado anteriormente"
   ]
  },
  {
   "cell_type": "code",
   "execution_count": null,
   "id": "872596b6",
   "metadata": {},
   "outputs": [],
   "source": [
    "df2.groupBy(\"DayofWeek\").count().show()"
   ]
  },
  {
   "cell_type": "code",
   "execution_count": null,
   "id": "757f9d55",
   "metadata": {},
   "outputs": [],
   "source": [
    "df2.groupBy(\"DayofWeek\").mean(\"ArrDelay\").show()"
   ]
  },
  {
   "cell_type": "code",
   "execution_count": null,
   "id": "d96efa54",
   "metadata": {},
   "outputs": [],
   "source": [
    "#para ver todos los origines distintos de nuestra bbdd\n",
    "df2.select(\"Origin\").rdd.distinct().take(5)"
   ]
  },
  {
   "cell_type": "code",
   "execution_count": null,
   "id": "39ebf0f0",
   "metadata": {},
   "outputs": [],
   "source": [
    "df2.select(\"Origin\").rdd.distinct().count()"
   ]
  },
  {
   "cell_type": "code",
   "execution_count": null,
   "id": "c6ddd255",
   "metadata": {},
   "outputs": [],
   "source": [
    "#ordenar dataframe por la columna ArrDelay\n",
    "df2.orderBy(df2.ArrDelay.desc()).take(5)"
   ]
  }
 ],
 "metadata": {
  "kernelspec": {
   "display_name": "Python 3",
   "language": "python",
   "name": "python3"
  },
  "language_info": {
   "codemirror_mode": {
    "name": "ipython",
    "version": 3
   },
   "file_extension": ".py",
   "mimetype": "text/x-python",
   "name": "python",
   "nbconvert_exporter": "python",
   "pygments_lexer": "ipython3",
   "version": "3.8.8"
  }
 },
 "nbformat": 4,
 "nbformat_minor": 5
}
