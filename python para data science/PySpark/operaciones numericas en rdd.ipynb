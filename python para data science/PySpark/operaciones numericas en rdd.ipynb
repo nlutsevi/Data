{
 "cells": [
  {
   "cell_type": "code",
   "execution_count": null,
   "id": "be0f5e22",
   "metadata": {},
   "outputs": [],
   "source": [
    "from pyspark import SparkConf, SparkContext\n",
    "from pyspark.sql.types import StringType\n",
    "from pyspark import SQLContext\n",
    "import numpy as np\n",
    "\n",
    "conf = SparkConf().setMasrter(\"local\").setAppName(\"Mi programa\")\n",
    "sc = SparkContext (conf == conf)\n",
    "sqlContext = SQLContext(sc)\n",
    "\n",
    "dfspark = sqlContext.read.format(\"csv\").option(\"header\", \"true\").option(\"interSchema\", \"true\").load(\"archivo\")\n",
    "dfspark = dfspark.sample(fraction=0.001, withReplacement=False)\n",
    "dfspark = dfspark.withColumn(\"ArrDelay\", dfspark[\"ArrDelay\"].cast(\"integer\"))\n",
    "\n",
    "df2 = dfspark.na.drop(subset=[\"ArrDelay\", \"DepDelay\", \"Distance\"])\n",
    "df2 = df2.filter(\"ArrDelay is not NULL\")\n",
    "df2 = df2dropDuplicates()"
   ]
  },
  {
   "cell_type": "code",
   "execution_count": null,
   "id": "ccaebd11",
   "metadata": {},
   "outputs": [],
   "source": [
    "lista = sc.parallelize(range(1,1000000))\n",
    "lista.reduce(lambda x,y:x+y)\n",
    "#sumar todos los valores del 1 al 1000000"
   ]
  },
  {
   "cell_type": "code",
   "execution_count": null,
   "id": "fa9d6d48",
   "metadata": {},
   "outputs": [],
   "source": [
    "lista.sum()"
   ]
  },
  {
   "cell_type": "code",
   "execution_count": null,
   "id": "00ebdb5b",
   "metadata": {},
   "outputs": [],
   "source": [
    "from pyspark.sql.functions import mean, stddev, col\n",
    "media = df2.select(mean(col(\"ArrDelay\"))).collect()\n",
    "std = df2.select(stddev(col(\"ArrDelay\"))).collect()"
   ]
  },
  {
   "cell_type": "code",
   "execution_count": null,
   "id": "a13468e5",
   "metadata": {},
   "outputs": [],
   "source": [
    "df2.withColumn(\"Diferencia\", df2[\"ArrDelay\"] - df2[\"DepDelay\"]).collect()\n",
    "#generacion de una nueva columna (diferencia de arrdelay y depdelay)"
   ]
  },
  {
   "cell_type": "code",
   "execution_count": null,
   "id": "ccb73b26",
   "metadata": {},
   "outputs": [],
   "source": [
    "df2.withColumn(\"Standart\", (df2[\"ArrDelay\"] - media[0][0])/std[0][0]).collect()\n",
    "#generacion de una nueva columna con la estandarizacion del retraso de llegada de nuestros vuelos"
   ]
  }
 ],
 "metadata": {
  "kernelspec": {
   "display_name": "Python 3",
   "language": "python",
   "name": "python3"
  },
  "language_info": {
   "codemirror_mode": {
    "name": "ipython",
    "version": 3
   },
   "file_extension": ".py",
   "mimetype": "text/x-python",
   "name": "python",
   "nbconvert_exporter": "python",
   "pygments_lexer": "ipython3",
   "version": "3.8.8"
  }
 },
 "nbformat": 4,
 "nbformat_minor": 5
}
