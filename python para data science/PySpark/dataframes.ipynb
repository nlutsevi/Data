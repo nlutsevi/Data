{
 "cells": [
  {
   "cell_type": "code",
   "execution_count": null,
   "id": "1c20f84a",
   "metadata": {},
   "outputs": [],
   "source": [
    "from pyspark import SparkConf, SparkContext\n",
    "conf = SparkConf().setMaster(\"local\").setAppName(\"Mi programa2\")\n",
    "sc = SparkContext(conf = conf)"
   ]
  },
  {
   "cell_type": "code",
   "execution_count": null,
   "id": "ca9f1f57",
   "metadata": {},
   "outputs": [],
   "source": [
    "import pandas as pd\n",
    "df = pd.read_csv(\"archivo\", nrows=100000)"
   ]
  },
  {
   "cell_type": "code",
   "execution_count": null,
   "id": "be9bb951",
   "metadata": {},
   "outputs": [],
   "source": [
    "df.read()"
   ]
  },
  {
   "cell_type": "code",
   "execution_count": null,
   "id": "737ea54f",
   "metadata": {},
   "outputs": [],
   "source": [
    "from pyspark.sql.types import StringType\n",
    "from pyspark import SQLContext\n",
    "sqlContext = SQLContext(sc)\n",
    "\n",
    "dfspark = sqlContext.read.format(\"csv\").option(\"header\", \"true\").option(\"interSchema\", \"true\").load(\"vuelos.csv\")"
   ]
  },
  {
   "cell_type": "code",
   "execution_count": null,
   "id": "33f5b0c9",
   "metadata": {},
   "outputs": [],
   "source": [
    "dfspark.show(2)"
   ]
  },
  {
   "cell_type": "code",
   "execution_count": null,
   "id": "fe67be9a",
   "metadata": {
    "scrolled": true
   },
   "outputs": [],
   "source": [
    "dfspark.head(2)"
   ]
  },
  {
   "cell_type": "code",
   "execution_count": null,
   "id": "bc4ebdb6",
   "metadata": {},
   "outputs": [],
   "source": [
    "dfspark.count()"
   ]
  },
  {
   "cell_type": "code",
   "execution_count": null,
   "id": "17cf0840",
   "metadata": {},
   "outputs": [],
   "source": [
    "dfspark = dfspark.sample(fraction = 0.001,withReplacement=False)"
   ]
  },
  {
   "cell_type": "code",
   "execution_count": null,
   "id": "6660c082",
   "metadata": {},
   "outputs": [],
   "source": [
    "dfspark.count()"
   ]
  },
  {
   "cell_type": "code",
   "execution_count": null,
   "id": "14cf4a5c",
   "metadata": {},
   "outputs": [],
   "source": [
    "#transformar el formato\n",
    "dfspark = dfspark.withColumn(\"ArrDelay\", dfspark[\"ArrDelay\"])"
   ]
  },
  {
   "cell_type": "code",
   "execution_count": null,
   "id": "b9061fe9",
   "metadata": {},
   "outputs": [],
   "source": [
    "df2 = dfspark.na.drop(subset=[\"ArrDelay\",\"DepDelay\", \"Distance\"])"
   ]
  },
  {
   "cell_type": "code",
   "execution_count": null,
   "id": "f8acba6f",
   "metadata": {},
   "outputs": [],
   "source": [
    "df2 = df2.filter(\"ArrDelay is not NULL\")"
   ]
  },
  {
   "cell_type": "code",
   "execution_count": null,
   "id": "4b02dab1",
   "metadata": {},
   "outputs": [],
   "source": [
    "df2.count()"
   ]
  },
  {
   "cell_type": "code",
   "execution_count": null,
   "id": "d493c2f8",
   "metadata": {},
   "outputs": [],
   "source": [
    "df2.printSchema()\n",
    "#metodo que nos va a decir de que tipo de variable es cada una de las columnas"
   ]
  },
  {
   "cell_type": "code",
   "execution_count": null,
   "id": "d06fb184",
   "metadata": {},
   "outputs": [],
   "source": [
    "import numpy as np\n",
    "media = np.mean(df2.select(\"ArrDelay\").collect())"
   ]
  },
  {
   "cell_type": "code",
   "execution_count": null,
   "id": "08ed7bcf",
   "metadata": {},
   "outputs": [],
   "source": [
    "media"
   ]
  },
  {
   "cell_type": "code",
   "execution_count": null,
   "id": "1c1e2313",
   "metadata": {},
   "outputs": [],
   "source": [
    "#mostrar el numero de particiones rdd\n",
    "df2.rdd.getNumPartitions()"
   ]
  }
 ],
 "metadata": {
  "kernelspec": {
   "display_name": "Python 3",
   "language": "python",
   "name": "python3"
  },
  "language_info": {
   "codemirror_mode": {
    "name": "ipython",
    "version": 3
   },
   "file_extension": ".py",
   "mimetype": "text/x-python",
   "name": "python",
   "nbconvert_exporter": "python",
   "pygments_lexer": "ipython3",
   "version": "3.8.8"
  }
 },
 "nbformat": 4,
 "nbformat_minor": 5
}
