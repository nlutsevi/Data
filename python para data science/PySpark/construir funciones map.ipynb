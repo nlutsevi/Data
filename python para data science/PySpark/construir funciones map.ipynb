{
 "cells": [
  {
   "cell_type": "code",
   "execution_count": null,
   "id": "28b7a5a3",
   "metadata": {},
   "outputs": [],
   "source": [
    "from pyspark import SparkConf, SparkContext\n",
    "from pyspark.sql.types import StringType\n",
    "from pyspark import SQLContext\n",
    "\n",
    "conf = SparkConf().setMaster(\"local\").setAppName(\"Mi programa\")\n",
    "sc = SparkContext(conf = conf)\n",
    "sqlContext = SQLContext(sc)\n",
    "\n",
    "dfspark = sqlContext.read.format(\"csv\").option(\"header\", \"true\").option(\"interSchema\", \"true\").load(\"archivo\")\n",
    "dfspark = dfspark.sample(fraction=0.001, withReplacement=False)\n",
    "dfspark = dfspark.withColumn(\"ArrDelay\", dfspark[\"ArrDelay\"].cast(\"integer\"))\n",
    "\n",
    "df2 = dfspark.na.drop(subset=[\"ArrDelay\", \"DepDelay\", \"Distance\"])\n",
    "df2 = df2.filter(\"ArrDelay is not NULL\")\n",
    "df2 = df2dropDuplicates()"
   ]
  },
  {
   "cell_type": "code",
   "execution_count": null,
   "id": "8c8990bc",
   "metadata": {},
   "outputs": [],
   "source": [
    "A = sc.parallelize(df2.select(\"Origin\").rdd.collect())\n",
    "#generamos un array paralelizado de la columna origin"
   ]
  },
  {
   "cell_type": "code",
   "execution_count": null,
   "id": "9ca50411",
   "metadata": {},
   "outputs": [],
   "source": [
    "A.persist()\n",
    "#guardar el objeto en memoria para que sea más agil el calculo"
   ]
  },
  {
   "cell_type": "code",
   "execution_count": null,
   "id": "9187cb17",
   "metadata": {},
   "outputs": [],
   "source": [
    "mapfunction = A.map(lambda x: (x,1))\n",
    "#creamos la funcion map (añade un 1)"
   ]
  },
  {
   "cell_type": "code",
   "execution_count": null,
   "id": "776fe695",
   "metadata": {},
   "outputs": [],
   "source": [
    "mapfunction.collect()"
   ]
  },
  {
   "cell_type": "code",
   "execution_count": null,
   "id": "618be478",
   "metadata": {},
   "outputs": [],
   "source": [
    "def fun(x):\n",
    "    if x[0] in [\"SEA\", \"ATL\", \"HOU\"]:\n",
    "        return((x,2))\n",
    "    elif x[0] ==\"DEN\":\n",
    "        return((x,3))\n",
    "    else:\n",
    "        return((x,1))"
   ]
  },
  {
   "cell_type": "code",
   "execution_count": null,
   "id": "b3902fc7",
   "metadata": {},
   "outputs": [],
   "source": [
    "mapfunction2 = A.map(fun)"
   ]
  },
  {
   "cell_type": "code",
   "execution_count": null,
   "id": "cf5bba11",
   "metadata": {},
   "outputs": [],
   "source": [
    "mapfunction2.collect()"
   ]
  }
 ],
 "metadata": {
  "kernelspec": {
   "display_name": "Python 3",
   "language": "python",
   "name": "python3"
  },
  "language_info": {
   "codemirror_mode": {
    "name": "ipython",
    "version": 3
   },
   "file_extension": ".py",
   "mimetype": "text/x-python",
   "name": "python",
   "nbconvert_exporter": "python",
   "pygments_lexer": "ipython3",
   "version": "3.8.8"
  }
 },
 "nbformat": 4,
 "nbformat_minor": 5
}
