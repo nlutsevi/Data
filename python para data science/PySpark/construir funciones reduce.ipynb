{
 "cells": [
  {
   "cell_type": "code",
   "execution_count": null,
   "id": "20b93763",
   "metadata": {},
   "outputs": [],
   "source": [
    "from pyspark import SparkConf, SparkContext\n",
    "from pyspark.sql.types import StringType\n",
    "from pyspark import SQLContext\n",
    "\n",
    "conf = SparkConf().setMaster(\"local\").setAppName(\"Mi programa\")\n",
    "sc = SparkContext(conf = conf)\n",
    "sqlContext = SQLContext(sc)\n",
    "\n",
    "dfspark = sqlContext.read.format(\"csv\").option(\"header\", \"true\").option(\"interSchema\", \"true\").load(\"archivo\")\n",
    "dfspark = dfspark.sample(fraction=0.001, withReplacement=False)\n",
    "dfspark = dfspark.withColumn(\"ArrDelay\", dfspark[\"ArrDelay\"].cast(\"integer\"))\n",
    "\n",
    "df2 = dfspark.na.drop(subset=[\"ArrDelay\", \"DepDelay\", \"Distance\"])\n",
    "df2 = df2.filter(\"ArrDelay is not NULL\")\n",
    "df2 = df2dropDuplicates()"
   ]
  },
  {
   "cell_type": "code",
   "execution_count": null,
   "id": "923f5c0f",
   "metadata": {},
   "outputs": [],
   "source": [
    "A = sc.parallelize(df2.select(\"Origin\").rdd.collect())\n",
    "#paralelizamos la columna origin"
   ]
  },
  {
   "cell_type": "code",
   "execution_count": null,
   "id": "2e6f29f6",
   "metadata": {},
   "outputs": [],
   "source": [
    "A.persist()"
   ]
  },
  {
   "cell_type": "code",
   "execution_count": null,
   "id": "38afa38e",
   "metadata": {},
   "outputs": [],
   "source": [
    "mapfunction = A.map(lambda x: (x,1))"
   ]
  },
  {
   "cell_type": "code",
   "execution_count": null,
   "id": "a50eafa9",
   "metadata": {},
   "outputs": [],
   "source": [
    "def fun(x):\n",
    "    if x[0] in [\"SEA\", \"ATL\", \"HOU\"]:\n",
    "        return((x,2))\n",
    "    elif x[0] ==\"DEN\":\n",
    "        return((x,3))\n",
    "    else:\n",
    "        return((x,1))"
   ]
  },
  {
   "cell_type": "code",
   "execution_count": null,
   "id": "f2ef3de1",
   "metadata": {},
   "outputs": [],
   "source": [
    "mapfunction2 = A.map(fun)"
   ]
  },
  {
   "cell_type": "code",
   "execution_count": null,
   "id": "c0f07821",
   "metadata": {},
   "outputs": [],
   "source": [
    "reducefunction = mapfunction.reduceByKey(lambda x,y: x+y)"
   ]
  },
  {
   "cell_type": "code",
   "execution_count": null,
   "id": "088eca28",
   "metadata": {},
   "outputs": [],
   "source": [
    "reducefunction.collect()"
   ]
  },
  {
   "cell_type": "code",
   "execution_count": null,
   "id": "deb4dbe6",
   "metadata": {},
   "outputs": [],
   "source": [
    "reducefunction.sortByKey()\n",
    "#mostrar los resultados odenados"
   ]
  },
  {
   "cell_type": "code",
   "execution_count": null,
   "id": "94c5f9a4",
   "metadata": {},
   "outputs": [],
   "source": [
    "reducefunction.sortBy(lambda x: x[1], ascending=False)\n",
    "#aeropuertos con mas salida ordenados en order descendente"
   ]
  }
 ],
 "metadata": {
  "kernelspec": {
   "display_name": "Python 3",
   "language": "python",
   "name": "python3"
  },
  "language_info": {
   "codemirror_mode": {
    "name": "ipython",
    "version": 3
   },
   "file_extension": ".py",
   "mimetype": "text/x-python",
   "name": "python",
   "nbconvert_exporter": "python",
   "pygments_lexer": "ipython3",
   "version": "3.8.8"
  }
 },
 "nbformat": 4,
 "nbformat_minor": 5
}
