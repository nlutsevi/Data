{
 "cells": [
  {
   "cell_type": "code",
   "execution_count": null,
   "id": "5fece27a",
   "metadata": {},
   "outputs": [],
   "source": [
    "from pyspark import SparkConf, SparkContext\n",
    "from pyspark.sql.types import StringType\n",
    "from pyspark import SQLContext\n",
    "import numpy as np\n",
    "\n",
    "conf = SparkConf().setMasrter(\"local\").setAppName(\"Mi programa\")\n",
    "sc = SparkContext (conf == conf)\n",
    "sqlContext = SQLContext(sc)\n",
    "\n",
    "dfspark = sqlContext.read.format(\"csv\").option(\"header\", \"true\").option(\"interSchema\", \"true\").load(\"archivo\")\n",
    "dfspark = dfspark.sample(fraction=0.001, withReplacement=False)\n",
    "dfspark = dfspark.withColumn(\"ArrDelay\", dfspark[\"ArrDelay\"].cast(\"integer\"))\n",
    "\n",
    "df2 = dfspark.na.drop(subset=[\"ArrDelay\", \"DepDelay\", \"Distance\"])\n",
    "df2 = df2.filter(\"ArrDelay is not NULL\")\n",
    "df2 = df2dropDuplicates()"
   ]
  },
  {
   "cell_type": "code",
   "execution_count": null,
   "id": "a8417053",
   "metadata": {},
   "outputs": [],
   "source": [
    "df2.select(\"ArrDelay\").describe().show()\n",
    "#crear una tabla resumen"
   ]
  },
  {
   "cell_type": "code",
   "execution_count": null,
   "id": "989689b1",
   "metadata": {},
   "outputs": [],
   "source": [
    "df2.select(\"Origin\").rdd.countByValue()\n",
    "#obtener una lista de ocurrencias para una variable categorica"
   ]
  },
  {
   "cell_type": "code",
   "execution_count": null,
   "id": "f5869ac6",
   "metadata": {},
   "outputs": [],
   "source": [
    "df2.select(\"ArrDelay\").rrd.max()\n",
    "#obtenemos el maximo"
   ]
  },
  {
   "cell_type": "code",
   "execution_count": null,
   "id": "110101e4",
   "metadata": {},
   "outputs": [],
   "source": [
    "df2.select(\"Origin\").rdd.collect()\n",
    "#obtener una lista completa de la columna"
   ]
  },
  {
   "cell_type": "code",
   "execution_count": null,
   "id": "c99d6e48",
   "metadata": {},
   "outputs": [],
   "source": [
    "#tablas de contingencia entre dos variables\n",
    "df2.crosstab(\"DayofWeek\", \"Origin\").take(2)"
   ]
  }
 ],
 "metadata": {
  "kernelspec": {
   "display_name": "Python 3",
   "language": "python",
   "name": "python3"
  },
  "language_info": {
   "codemirror_mode": {
    "name": "ipython",
    "version": 3
   },
   "file_extension": ".py",
   "mimetype": "text/x-python",
   "name": "python",
   "nbconvert_exporter": "python",
   "pygments_lexer": "ipython3",
   "version": "3.8.8"
  }
 },
 "nbformat": 4,
 "nbformat_minor": 5
}
