{
 "cells": [
  {
   "cell_type": "code",
   "execution_count": 1,
   "id": "9df493f4",
   "metadata": {},
   "outputs": [],
   "source": [
    "import pandas as pd"
   ]
  },
  {
   "cell_type": "code",
   "execution_count": null,
   "id": "c159465f",
   "metadata": {},
   "outputs": [],
   "source": [
    "df = pd.read_csv(\"nombre_archivo\", nrows = 1000)"
   ]
  },
  {
   "cell_type": "code",
   "execution_count": null,
   "id": "b35dcac2",
   "metadata": {},
   "outputs": [],
   "source": [
    "df.head() # imprimir archivo partiendo de la cabeza"
   ]
  },
  {
   "cell_type": "code",
   "execution_count": null,
   "id": "8ab03f30",
   "metadata": {},
   "outputs": [],
   "source": [
    "df.tail() #imprimir archivo partiendo del pie de página"
   ]
  },
  {
   "cell_type": "code",
   "execution_count": null,
   "id": "fe2b7e26",
   "metadata": {},
   "outputs": [],
   "source": [
    "df.sample(frac = 1) #mostrar el dataframe desordenado(con todas las filas) "
   ]
  },
  {
   "cell_type": "code",
   "execution_count": null,
   "id": "bad29106",
   "metadata": {},
   "outputs": [],
   "source": [
    "df.colums #imprime en una lista los nombres de las columnas"
   ]
  },
  {
   "cell_type": "code",
   "execution_count": null,
   "id": "5c3cc3f9",
   "metadata": {},
   "outputs": [],
   "source": [
    "df.Deptime #muestra la columna Deptime"
   ]
  },
  {
   "cell_type": "code",
   "execution_count": null,
   "id": "3426eb9b",
   "metadata": {},
   "outputs": [],
   "source": [
    "df.dtypes #muestra el tipo de variables de nuestra tabla"
   ]
  },
  {
   "cell_type": "code",
   "execution_count": null,
   "id": "7bce29a0",
   "metadata": {},
   "outputs": [],
   "source": [
    "df.values #devuelve valores en un array"
   ]
  },
  {
   "cell_type": "code",
   "execution_count": null,
   "id": "1ca736c2",
   "metadata": {},
   "outputs": [],
   "source": [
    "df2 = df.head(10) #crea un nuevo objeto dataframe "
   ]
  }
 ],
 "metadata": {
  "kernelspec": {
   "display_name": "Python 3",
   "language": "python",
   "name": "python3"
  },
  "language_info": {
   "codemirror_mode": {
    "name": "ipython",
    "version": 3
   },
   "file_extension": ".py",
   "mimetype": "text/x-python",
   "name": "python",
   "nbconvert_exporter": "python",
   "pygments_lexer": "ipython3",
   "version": "3.8.8"
  }
 },
 "nbformat": 4,
 "nbformat_minor": 5
}
