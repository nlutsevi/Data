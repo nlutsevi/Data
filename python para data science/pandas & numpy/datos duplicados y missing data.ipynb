{
 "cells": [
  {
   "cell_type": "code",
   "execution_count": null,
   "id": "569a51da",
   "metadata": {},
   "outputs": [],
   "source": [
    "import pandsa as pd\n",
    "df = pd.read_csv(\"archivo\")"
   ]
  },
  {
   "cell_type": "code",
   "execution_count": null,
   "id": "3a235e43",
   "metadata": {},
   "outputs": [],
   "source": [
    "dfduplicate = df.append(df)"
   ]
  },
  {
   "cell_type": "code",
   "execution_count": null,
   "id": "81dd3f07",
   "metadata": {},
   "outputs": [],
   "source": [
    "dfclean = dfduplicate.drop_duplicates() #eliminar duplicados"
   ]
  },
  {
   "cell_type": "code",
   "execution_count": null,
   "id": "cb843e71",
   "metadata": {},
   "outputs": [],
   "source": [
    "len(dfclean) == len(df) #comprobar que el nuevo dataframe tiene las\n",
    "#mismas filas que el antiguo"
   ]
  },
  {
   "cell_type": "code",
   "execution_count": null,
   "id": "e8f611f2",
   "metadata": {},
   "outputs": [],
   "source": [
    "dfclean.drop_duplicates(subset = \"DayOfMonth\")\n",
    "# elimina duplicados en los dias de la semana"
   ]
  },
  {
   "cell_type": "code",
   "execution_count": null,
   "id": "a10f9383",
   "metadata": {},
   "outputs": [],
   "source": [
    "df.dropna() #elimina las filas con datos faltantes"
   ]
  },
  {
   "cell_type": "code",
   "execution_count": null,
   "id": "ef7d59b2",
   "metadata": {},
   "outputs": [],
   "source": [
    "df.dropna(thresh=25) #con el thresh indicamos el minimo de filas\n",
    "# que queremos mantener"
   ]
  },
  {
   "cell_type": "code",
   "execution_count": null,
   "id": "a24b5435",
   "metadata": {},
   "outputs": [],
   "source": [
    "df.dropna(subset=[\"CancellationCode\"]) \n",
    "# elimina los datos faltantes de la columna indicada"
   ]
  }
 ],
 "metadata": {
  "kernelspec": {
   "display_name": "Python 3",
   "language": "python",
   "name": "python3"
  },
  "language_info": {
   "codemirror_mode": {
    "name": "ipython",
    "version": 3
   },
   "file_extension": ".py",
   "mimetype": "text/x-python",
   "name": "python",
   "nbconvert_exporter": "python",
   "pygments_lexer": "ipython3",
   "version": "3.8.8"
  }
 },
 "nbformat": 4,
 "nbformat_minor": 5
}
