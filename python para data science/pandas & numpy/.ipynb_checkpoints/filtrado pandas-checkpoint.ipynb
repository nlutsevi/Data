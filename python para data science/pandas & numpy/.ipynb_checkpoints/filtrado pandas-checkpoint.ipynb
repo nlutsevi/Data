{
 "cells": [
  {
   "cell_type": "code",
   "execution_count": null,
   "id": "3750cb81",
   "metadata": {},
   "outputs": [],
   "source": [
    "import pandas as pd\n",
    "df = pd.read_csv(\"nombre archivo\")"
   ]
  },
  {
   "cell_type": "code",
   "execution_count": null,
   "id": "f31e7d93",
   "metadata": {},
   "outputs": [],
   "source": [
    "df[\"ArrDelay\"].head() #obtener información de los valores\n",
    "# de la columna ArrDelay"
   ]
  },
  {
   "cell_type": "code",
   "execution_count": null,
   "id": "0ecc5511",
   "metadata": {},
   "outputs": [],
   "source": [
    "df[0:10] #obtener las 10 primeras filas"
   ]
  },
  {
   "cell_type": "code",
   "execution_count": null,
   "id": "e045c9ce",
   "metadata": {},
   "outputs": [],
   "source": [
    "df[df[\"ArrDelay\"] < 60].head() #muestra aquellos valores que se han\n",
    "# atrasado menos de 60 minutos"
   ]
  },
  {
   "cell_type": "code",
   "execution_count": null,
   "id": "919ed35f",
   "metadata": {},
   "outputs": [],
   "source": [
    "df[df[\"Origin\"]==\"ATL\"].head() #todos los vuelos salidos de atlanta"
   ]
  },
  {
   "cell_type": "code",
   "execution_count": null,
   "id": "3bfa3380",
   "metadata": {},
   "outputs": [],
   "source": [
    "df[(df[\"Origin\"]==\"ATL\") && (df[\"ArrDelay\"] > 60)].head() \n",
    "#vuelos que han salido de Atlanta y se han atrasado 60 minutos"
   ]
  },
  {
   "cell_type": "code",
   "execution_count": null,
   "id": "c6d5d234",
   "metadata": {},
   "outputs": [],
   "source": [
    "df[df.Origin.isin([\"HOU\", \"ATL\"])].head() #vuelos con origen en\n",
    "# atlanta y hou"
   ]
  },
  {
   "cell_type": "code",
   "execution_count": null,
   "id": "a4bf06ce",
   "metadata": {},
   "outputs": [],
   "source": [
    "df[pd.isna(df[\"ArrDelay\"])].head() #todos aquellos vuelos que\n",
    "#no tienen valor en Delay"
   ]
  }
 ],
 "metadata": {
  "kernelspec": {
   "display_name": "Python 3",
   "language": "python",
   "name": "python3"
  },
  "language_info": {
   "codemirror_mode": {
    "name": "ipython",
    "version": 3
   },
   "file_extension": ".py",
   "mimetype": "text/x-python",
   "name": "python",
   "nbconvert_exporter": "python",
   "pygments_lexer": "ipython3",
   "version": "3.8.8"
  }
 },
 "nbformat": 4,
 "nbformat_minor": 5
}
