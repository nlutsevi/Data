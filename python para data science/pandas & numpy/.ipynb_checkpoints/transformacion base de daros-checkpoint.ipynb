{
 "cells": [
  {
   "cell_type": "code",
   "execution_count": null,
   "id": "820e6259",
   "metadata": {},
   "outputs": [],
   "source": [
    "import pandas as pd\n",
    "df = pd.read_csv(\"archivo\")"
   ]
  },
  {
   "cell_type": "code",
   "execution_count": null,
   "id": "541e5253",
   "metadata": {},
   "outputs": [],
   "source": [
    "df[\"HoursDelay\"] = round(df[\"ArrDelay\"] / 60)\n",
    "#crear columna nueva HoursDelay"
   ]
  },
  {
   "cell_type": "code",
   "execution_count": null,
   "id": "28811ff3",
   "metadata": {},
   "outputs": [],
   "source": [
    "df[\"HoursDelay\"].head() #ver la nueva columna creada"
   ]
  },
  {
   "cell_type": "code",
   "execution_count": null,
   "id": "189c9ff7",
   "metadata": {},
   "outputs": [],
   "source": [
    "del(df[\"HoursDelay\"]) #eliminar la columna que acabamos de crear"
   ]
  },
  {
   "cell_type": "code",
   "execution_count": null,
   "id": "3b0d341e",
   "metadata": {},
   "outputs": [],
   "source": [
    "df.drop([\"Diverted\", \"Cancelled\", \"Year\"], axis=1)\n",
    "# borrar columnas especificadas en la lista\n",
    "# EJECUTA PERO NO GUARDA"
   ]
  },
  {
   "cell_type": "code",
   "execution_count": null,
   "id": "296a2d77",
   "metadata": {},
   "outputs": [],
   "source": [
    "df df.drop([\"Diverted\", \"Cancelled\", \"Year\"], axis=1)\n",
    "# borrar columnas especificadas en la lista\n",
    "# EJECUTA Y GUARDA LA NUEVA EN DF"
   ]
  },
  {
   "cell_type": "code",
   "execution_count": null,
   "id": "8f97c0fa",
   "metadata": {},
   "outputs": [],
   "source": [
    "dfATL = df[df.Origin == \"ATL\"] #nuevo objeto con vuelos salidos de ATL\n",
    "dfHOU = df[df.Origin == \"HOU\"] #nuevo objeto con vuelos salidos de HOU"
   ]
  },
  {
   "cell_type": "code",
   "execution_count": null,
   "id": "624a8b45",
   "metadata": {},
   "outputs": [],
   "source": [
    "newdf = dfATL.append(dfHOU) #nuevo objeto juntando los dos anteriores"
   ]
  }
 ],
 "metadata": {
  "kernelspec": {
   "display_name": "Python 3",
   "language": "python",
   "name": "python3"
  },
  "language_info": {
   "codemirror_mode": {
    "name": "ipython",
    "version": 3
   },
   "file_extension": ".py",
   "mimetype": "text/x-python",
   "name": "python",
   "nbconvert_exporter": "python",
   "pygments_lexer": "ipython3",
   "version": "3.8.8"
  }
 },
 "nbformat": 4,
 "nbformat_minor": 5
}
