{
 "cells": [
  {
   "cell_type": "code",
   "execution_count": null,
   "id": "0e74b5b9",
   "metadata": {},
   "outputs": [],
   "source": [
    "import pandas ap pd\n",
    "df = pd.read_csv(\"archivo\")"
   ]
  },
  {
   "cell_type": "code",
   "execution_count": null,
   "id": "26188b00",
   "metadata": {},
   "outputs": [],
   "source": [
    "df.groupby(by = \"Dayofweek\")[\"ArrDelay\"].max()\n",
    "# el retraso máximo que ha tenido un vuelo por dias de semana\n",
    "# (en toda la base de datos)"
   ]
  },
  {
   "cell_type": "code",
   "execution_count": null,
   "id": "eef8dec7",
   "metadata": {},
   "outputs": [],
   "source": [
    "df.groupby(by = \"Dayofweek\")[\"ArrDelay\"].describe()\n",
    "# resumen estadístico de los delays de vuelos por cada dia de \n",
    "# la semana"
   ]
  },
  {
   "cell_type": "code",
   "execution_count": null,
   "id": "d64584b9",
   "metadata": {},
   "outputs": [],
   "source": [
    "df.groupby(by = \"Dayofweek\")[\"ArrDelay\", \"DepDelay\"].mean()\n",
    "# media por dia de la semana de arrdelays y depdelays"
   ]
  },
  {
   "cell_type": "code",
   "execution_count": null,
   "id": "42be3dae",
   "metadata": {},
   "outputs": [],
   "source": [
    "dfATLHOU = df[df.Origin.isin([\"ATL\", \"HOU\"])]"
   ]
  },
  {
   "cell_type": "code",
   "execution_count": null,
   "id": "509bd1b3",
   "metadata": {},
   "outputs": [],
   "source": [
    "my_groupby = dfATLHOU.groupby(by = [\"Dayofweek\", \"Origin\"])[\"ArrDelay\"].mean()\n",
    "# para cada dia de la semana vuelos que salen de atlanta y de houston\n",
    "# y sus medias de retraso"
   ]
  }
 ],
 "metadata": {
  "kernelspec": {
   "display_name": "Python 3",
   "language": "python",
   "name": "python3"
  },
  "language_info": {
   "codemirror_mode": {
    "name": "ipython",
    "version": 3
   },
   "file_extension": ".py",
   "mimetype": "text/x-python",
   "name": "python",
   "nbconvert_exporter": "python",
   "pygments_lexer": "ipython3",
   "version": "3.8.8"
  }
 },
 "nbformat": 4,
 "nbformat_minor": 5
}
