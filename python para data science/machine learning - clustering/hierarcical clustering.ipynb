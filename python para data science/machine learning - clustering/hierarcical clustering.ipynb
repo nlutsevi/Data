{
 "cells": [
  {
   "cell_type": "code",
   "execution_count": null,
   "id": "d49bd50b",
   "metadata": {},
   "outputs": [],
   "source": [
    "import pandas as pd\n",
    "import numpy as np\n",
    "from sklearn.cluster import AgglomerativeClustering\n",
    "import matplotlib.pyplot as plt\n",
    "\n",
    "df = pd.read_csv(\"archivo\")\n",
    "newdf = df[[\"AirTime\", \"DepDelay\"]].dropna()"
   ]
  },
  {
   "cell_type": "code",
   "execution_count": null,
   "id": "b701d487",
   "metadata": {},
   "outputs": [],
   "source": [
    "#newdf = df[[\"AirTime\", \"Distance\", \"TaxiOut\", \"ArrDelay\", \"DepDelay\"]].dropna()"
   ]
  },
  {
   "cell_type": "code",
   "execution_count": null,
   "id": "e54cc784",
   "metadata": {},
   "outputs": [],
   "source": [
    "clstr = AgglomerativeClustering(n_clusters=5) #5 clusters\n",
    "clstr.fit(newdf)"
   ]
  },
  {
   "cell_type": "code",
   "execution_count": null,
   "id": "f57a77ad",
   "metadata": {},
   "outputs": [],
   "source": [
    "plt.scatter(newdf[\"AirTime\"],newdf[\"DepDelay\"],c = clstr.fit_predict(newdf))\n",
    "plt.show()\n",
    "#para visualizar los resultados"
   ]
  }
 ],
 "metadata": {
  "kernelspec": {
   "display_name": "Python 3",
   "language": "python",
   "name": "python3"
  },
  "language_info": {
   "codemirror_mode": {
    "name": "ipython",
    "version": 3
   },
   "file_extension": ".py",
   "mimetype": "text/x-python",
   "name": "python",
   "nbconvert_exporter": "python",
   "pygments_lexer": "ipython3",
   "version": "3.8.8"
  }
 },
 "nbformat": 4,
 "nbformat_minor": 5
}
