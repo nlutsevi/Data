{
 "cells": [
  {
   "cell_type": "code",
   "execution_count": null,
   "id": "ddb01eeb",
   "metadata": {},
   "outputs": [],
   "source": [
    "import pandas as pd\n",
    "import numpy as np\n",
    "from sklearn.cluster import KMeans\n",
    "import matplotlib.pyplot as plt\n",
    "\n",
    "df = pd.read_csv(\"archivo\")\n",
    "newdf = df[[\"AirTime\", \"DepDelay\"]].dropna()"
   ]
  },
  {
   "cell_type": "code",
   "execution_count": null,
   "id": "2ec84465",
   "metadata": {},
   "outputs": [],
   "source": [
    "kmeans = KMeans(n_clusters=4, random_state=0, n_jobs= -1).fit(newdf)\n",
    "#n_jobs -1 usará todos los processadores del ordenador\n",
    "kmeans.labels_"
   ]
  },
  {
   "cell_type": "code",
   "execution_count": null,
   "id": "577e19f6",
   "metadata": {},
   "outputs": [],
   "source": [
    "np.unique(kmeans.labels_, return_counts=True)\n",
    "#para ver cómo han quedado distribuidos los individuos en cada uno de los grupos"
   ]
  },
  {
   "cell_type": "code",
   "execution_count": null,
   "id": "d1c66564",
   "metadata": {},
   "outputs": [],
   "source": [
    "plt.scatter(newdf[\"AirTime\"], newdf[\"DepDelay\"],c = kmeans.labels_)\n",
    "plt.show()\n",
    "#visualizar graficamente cómo quedan distribuidos los centroides"
   ]
  },
  {
   "cell_type": "code",
   "execution_count": null,
   "id": "86edf8c6",
   "metadata": {},
   "outputs": [],
   "source": [
    "kmeans.cluster_centers_\n",
    "#para ver dónde quedan situados los centroides"
   ]
  },
  {
   "cell_type": "code",
   "execution_count": null,
   "id": "dcf08014",
   "metadata": {},
   "outputs": [],
   "source": [
    "alldf = pd.read_csv(\"archivo\")[[\"AirTime\", \"DepDelay\"]].dropna()"
   ]
  },
  {
   "cell_type": "code",
   "execution_count": null,
   "id": "83b18dc5",
   "metadata": {},
   "outputs": [],
   "source": [
    "kmeans.predict(alldf)[0:50]\n",
    "#para predecir a qué grupo van a pertenecer nuevos puntos"
   ]
  }
 ],
 "metadata": {
  "kernelspec": {
   "display_name": "Python 3",
   "language": "python",
   "name": "python3"
  },
  "language_info": {
   "codemirror_mode": {
    "name": "ipython",
    "version": 3
   },
   "file_extension": ".py",
   "mimetype": "text/x-python",
   "name": "python",
   "nbconvert_exporter": "python",
   "pygments_lexer": "ipython3",
   "version": "3.8.8"
  }
 },
 "nbformat": 4,
 "nbformat_minor": 5
}
