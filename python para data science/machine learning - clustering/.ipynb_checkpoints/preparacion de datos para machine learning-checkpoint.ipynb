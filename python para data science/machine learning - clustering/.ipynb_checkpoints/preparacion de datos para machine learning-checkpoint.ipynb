{
 "cells": [
  {
   "cell_type": "code",
   "execution_count": null,
   "id": "f9e13600",
   "metadata": {},
   "outputs": [],
   "source": [
    "from sklearn import preprocessing\n",
    "import pandas as pd\n",
    "import numpy as np\n",
    "\n",
    "df = pd.read_csv(\"archivo\")\n",
    "df = df[[\"ArrDelay\", \"DepDelay\", \"Distance\", \"Airtime\"]].dropna()"
   ]
  },
  {
   "cell_type": "code",
   "execution_count": null,
   "id": "90bebbbf",
   "metadata": {},
   "outputs": [],
   "source": [
    "x_scaled = preprocessing.scale(df)\n",
    "#escalar los datos (centrar en el 0(media) y con desviación estandar en el 1)\n",
    "s_scaled"
   ]
  },
  {
   "cell_type": "code",
   "execution_count": null,
   "id": "e75b2b39",
   "metadata": {},
   "outputs": [],
   "source": [
    "min_max_scaler = preprocessing.MinMaxScaler([0,10])\n",
    "#escalar los datos con min 0 y max 10\n",
    "x_train_minmax = min_max_scaler.fit_transform(df)\n",
    "#adaptar los datos escalados a nuestro dataframe\n",
    "x_train_minmax"
   ]
  },
  {
   "cell_type": "code",
   "execution_count": null,
   "id": "395997f8",
   "metadata": {},
   "outputs": [],
   "source": [
    "df = pd.read_csv(\"archivo\")\n",
    "pd.get_dummies(df[\"Origin\"]) "
   ]
  }
 ],
 "metadata": {
  "kernelspec": {
   "display_name": "Python 3",
   "language": "python",
   "name": "python3"
  },
  "language_info": {
   "codemirror_mode": {
    "name": "ipython",
    "version": 3
   },
   "file_extension": ".py",
   "mimetype": "text/x-python",
   "name": "python",
   "nbconvert_exporter": "python",
   "pygments_lexer": "ipython3",
   "version": "3.8.8"
  }
 },
 "nbformat": 4,
 "nbformat_minor": 5
}
