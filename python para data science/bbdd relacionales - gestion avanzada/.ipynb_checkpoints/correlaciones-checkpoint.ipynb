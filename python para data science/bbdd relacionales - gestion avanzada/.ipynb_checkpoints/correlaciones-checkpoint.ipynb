{
 "cells": [
  {
   "cell_type": "code",
   "execution_count": null,
   "id": "fcf7fddf",
   "metadata": {},
   "outputs": [],
   "source": [
    "import pandas as pd\n",
    "import numpy as np\n",
    "df = pd.read_scv(\"archivo\")"
   ]
  },
  {
   "cell_type": "code",
   "execution_count": null,
   "id": "d5e5f94c",
   "metadata": {},
   "outputs": [],
   "source": [
    "df.dropna(inplace=True, subset=[\"ArrDelay\"],[\"DepDelay\"])\n",
    "#quitamos los valores faltantes de lo que vamos a utilizar para \n",
    "#calcular el coeficiente de correlacion(no accepta valores faltantes)"
   ]
  },
  {
   "cell_type": "code",
   "execution_count": null,
   "id": "84a46424",
   "metadata": {},
   "outputs": [],
   "source": [
    "np.corrcoef(df[\"ArrDelay\"], df[\"DepDelay\"])\n",
    "#una medida de regresión que pretende cuantificar \n",
    "#el grado de variación conjunta entre dos variables."
   ]
  },
  {
   "cell_type": "code",
   "execution_count": null,
   "id": "b7d91e57",
   "metadata": {},
   "outputs": [],
   "source": [
    "df.drop(inplace=True, columns = [\"Year\", \"Cancelled\", \"Diverted\"])\n",
    "#eliminar constantes y variables dummies"
   ]
  },
  {
   "cell_type": "code",
   "execution_count": null,
   "id": "4b421d81",
   "metadata": {},
   "outputs": [],
   "source": [
    "df.corr()"
   ]
  }
 ],
 "metadata": {
  "kernelspec": {
   "display_name": "Python 3",
   "language": "python",
   "name": "python3"
  },
  "language_info": {
   "codemirror_mode": {
    "name": "ipython",
    "version": 3
   },
   "file_extension": ".py",
   "mimetype": "text/x-python",
   "name": "python",
   "nbconvert_exporter": "python",
   "pygments_lexer": "ipython3",
   "version": "3.8.8"
  }
 },
 "nbformat": 4,
 "nbformat_minor": 5
}
