{
 "cells": [
  {
   "cell_type": "code",
   "execution_count": null,
   "id": "a5c792ca",
   "metadata": {},
   "outputs": [],
   "source": [
    "import pandas as pd\n",
    "import numpy as np\n",
    "df = pd.read_csv(\"archivo\")"
   ]
  },
  {
   "cell_type": "code",
   "execution_count": null,
   "id": "e6da5429",
   "metadata": {},
   "outputs": [],
   "source": [
    "np.random.seed(0)\n",
    "df = df[df[\"Origin\"].isin([\"HOU\", \"ATL\", \"IND\"])] #delimitamos nuestra base de datos\n",
    "df = df.sample(frac = 1) #reordenamos nuestra base de datos\n",
    "df = df[0:10000] #seleccionamos las 10k primeras filas"
   ]
  },
  {
   "cell_type": "code",
   "execution_count": null,
   "id": "ea082533",
   "metadata": {},
   "outputs": [],
   "source": [
    "df[\"BigDelay\"] = df[\"ArrDelay\"] > 30\n",
    "observados = pd.crosstab(index=df[\"BigDelay\"],columns=df[\"Origin\"], margins=True)"
   ]
  },
  {
   "cell_type": "code",
   "execution_count": null,
   "id": "096eb01f",
   "metadata": {},
   "outputs": [],
   "source": [
    "from scipy.stats import chi2_contingecy\n",
    "#prueba de la estadistica descriptiva que se usa para determinar la existencia\n",
    "#o no de indeoendencia entre dos variables"
   ]
  },
  {
   "cell_type": "code",
   "execution_count": null,
   "id": "ac41c165",
   "metadata": {},
   "outputs": [],
   "source": [
    "test = chi2_contingency(observados)"
   ]
  },
  {
   "cell_type": "code",
   "execution_count": null,
   "id": "069d4770",
   "metadata": {},
   "outputs": [],
   "source": [
    "esperados = pd.DataDrame(test[3]) "
   ]
  },
  {
   "cell_type": "code",
   "execution_count": null,
   "id": "1736d717",
   "metadata": {},
   "outputs": [],
   "source": [
    "esperados_rel = round(esperados.apply(lambda r: r/len(df) *100,axis=1),2)"
   ]
  },
  {
   "cell_type": "code",
   "execution_count": null,
   "id": "0791481d",
   "metadata": {},
   "outputs": [],
   "source": [
    "observados_rel = round(observados.apply(lambda r: r/len(df) *100,axis=1),2)"
   ]
  }
 ],
 "metadata": {
  "kernelspec": {
   "display_name": "Python 3",
   "language": "python",
   "name": "python3"
  },
  "language_info": {
   "codemirror_mode": {
    "name": "ipython",
    "version": 3
   },
   "file_extension": ".py",
   "mimetype": "text/x-python",
   "name": "python",
   "nbconvert_exporter": "python",
   "pygments_lexer": "ipython3",
   "version": "3.8.8"
  }
 },
 "nbformat": 4,
 "nbformat_minor": 5
}
