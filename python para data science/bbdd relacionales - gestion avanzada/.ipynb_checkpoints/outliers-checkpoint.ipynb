{
 "cells": [
  {
   "cell_type": "code",
   "execution_count": null,
   "id": "4307e9ee",
   "metadata": {},
   "outputs": [],
   "source": [
    "import pandas as pd\n",
    "import numpy as np\n",
    "df = pd_read_csv(\"archivo\")"
   ]
  },
  {
   "cell_type": "code",
   "execution_count": null,
   "id": "952fc053",
   "metadata": {},
   "outputs": [],
   "source": [
    "x = df[\"ArrDelay\"].dropna()"
   ]
  },
  {
   "cell_type": "code",
   "execution_count": null,
   "id": "0fffbc1c",
   "metadata": {},
   "outputs": [],
   "source": [
    "Q1 = np.percentile(x,25) #obtenemos el primer quartil\n",
    "Q3 = np.percentile(x, 75) #obtenemos el tercer quartil\n",
    "rangointer = Q3 - Q1"
   ]
  },
  {
   "cell_type": "code",
   "execution_count": null,
   "id": "92cad30d",
   "metadata": {},
   "outputs": [],
   "source": [
    "umbral_superior = Q3 +1.5*rangointer #cualquier valor que esté por encima de este rango va a ser un outlier\n",
    "umbral_inferior = Q1 - 1.5*rangointer #cualquier valor que esté por debajo de este rango va a ser un outlier"
   ]
  },
  {
   "cell_type": "code",
   "execution_count": null,
   "id": "69998418",
   "metadata": {},
   "outputs": [],
   "source": [
    "np.mean(x > umbral_superior) # % de casos que están por encima"
   ]
  },
  {
   "cell_type": "code",
   "execution_count": null,
   "id": "d3e49da1",
   "metadata": {},
   "outputs": [],
   "source": [
    "np.mean(x < umbral_inferior) # % de casos por debajo"
   ]
  },
  {
   "cell_type": "code",
   "execution_count": null,
   "id": "16b04112",
   "metadata": {},
   "outputs": [],
   "source": [
    "from sklearn.covariance import EllipticEnvelope"
   ]
  },
  {
   "cell_type": "code",
   "execution_count": null,
   "id": "9b6f1c9a",
   "metadata": {},
   "outputs": [],
   "source": [
    "outliers = EllipticEnvelope(contamination = .01) \n",
    "# el 1% de datos que están muy alejados de nuestros datos centrados"
   ]
  },
  {
   "cell_type": "code",
   "execution_count": null,
   "id": "de47a08c",
   "metadata": {},
   "outputs": [],
   "source": [
    "var_list = [\"DepDelay\", \"TaxiIn\", \"TaxiOut\", \"CarrierDelay\"]"
   ]
  },
  {
   "cell_type": "code",
   "execution_count": null,
   "id": "a7381f2e",
   "metadata": {},
   "outputs": [],
   "source": [
    "x = np.array(df.loc[:,var_list].dropna()) #definir los valores que nos interesan"
   ]
  },
  {
   "cell_type": "code",
   "execution_count": null,
   "id": "7687a16a",
   "metadata": {},
   "outputs": [],
   "source": [
    "outliers.fit(x)"
   ]
  },
  {
   "cell_type": "code",
   "execution_count": null,
   "id": "5f51dbe6",
   "metadata": {},
   "outputs": [],
   "source": [
    "pred = outliers.predict(x) #que valores están en el objeto outliers"
   ]
  },
  {
   "cell_type": "code",
   "execution_count": null,
   "id": "7413034b",
   "metadata": {},
   "outputs": [],
   "source": [
    "elips_outliers =np.where(pred == -1)[0]"
   ]
  }
 ],
 "metadata": {
  "kernelspec": {
   "display_name": "Python 3",
   "language": "python",
   "name": "python3"
  },
  "language_info": {
   "codemirror_mode": {
    "name": "ipython",
    "version": 3
   },
   "file_extension": ".py",
   "mimetype": "text/x-python",
   "name": "python",
   "nbconvert_exporter": "python",
   "pygments_lexer": "ipython3",
   "version": "3.8.8"
  }
 },
 "nbformat": 4,
 "nbformat_minor": 5
}
