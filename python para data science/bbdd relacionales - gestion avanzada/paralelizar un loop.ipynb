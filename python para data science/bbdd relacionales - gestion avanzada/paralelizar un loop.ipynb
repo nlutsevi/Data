{
 "cells": [
  {
   "cell_type": "code",
   "execution_count": null,
   "id": "b153777a",
   "metadata": {},
   "outputs": [],
   "source": [
    "import pandas as pd\n",
    "import numpy as np\n",
    "from joblib import Parallel, delayed\n",
    "\n",
    "df = pd.read_csv(\"archivo\", nrows=100000)"
   ]
  },
  {
   "cell_type": "code",
   "execution_count": null,
   "id": "c8e807a4",
   "metadata": {},
   "outputs": [],
   "source": [
    "df_sub = df[(\"CarrierDelay\", \"WeatherDelay\", \"NASDelay\", \"SecurityDelay\")]"
   ]
  },
  {
   "cell_type": "code",
   "execution_count": null,
   "id": "f6b83e22",
   "metadata": {},
   "outputs": [],
   "source": [
    "df_sub.head(10)"
   ]
  },
  {
   "cell_type": "code",
   "execution_count": null,
   "id": "6dcae2c6",
   "metadata": {},
   "outputs": [],
   "source": [
    "def retraso_maximo(fila):\n",
    "    if not np.isnan(fila).any(): #si no hay nan\n",
    "        names = [\"CarrierDelay\", \"WeatherDelay\", \"NASDelay\", \"SecurityDelay\"]\n",
    "        return names[fila.index(max(fila))]\n",
    "    else:\n",
    "        return \"None\""
   ]
  },
  {
   "cell_type": "code",
   "execution_count": null,
   "id": "abdda940",
   "metadata": {},
   "outputs": [],
   "source": [
    "results = []\n",
    "for fila in df_sub.values.tolist():\n",
    "    results.append(retraso_maximo(fila))"
   ]
  },
  {
   "cell_type": "code",
   "execution_count": null,
   "id": "682690ee",
   "metadata": {},
   "outputs": [],
   "source": [
    "result = Parallel(n_jobs= 2, backend = \"multiprocessing\")(map(delayed(\n",
    "retraso_maximo), df_sub.values.tolist()))"
   ]
  }
 ],
 "metadata": {
  "kernelspec": {
   "display_name": "Python 3",
   "language": "python",
   "name": "python3"
  },
  "language_info": {
   "codemirror_mode": {
    "name": "ipython",
    "version": 3
   },
   "file_extension": ".py",
   "mimetype": "text/x-python",
   "name": "python",
   "nbconvert_exporter": "python",
   "pygments_lexer": "ipython3",
   "version": "3.8.8"
  }
 },
 "nbformat": 4,
 "nbformat_minor": 5
}
