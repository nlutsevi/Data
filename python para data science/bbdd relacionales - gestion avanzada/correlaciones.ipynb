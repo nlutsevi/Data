{
 "cells": [
  {
   "cell_type": "code",
   "execution_count": null,
   "id": "2c72b13e",
   "metadata": {},
   "outputs": [],
   "source": [
    "import pandas as pd\n",
    "import numpy as np\n",
    "df = pd.read_scv(\"archivo\")"
   ]
  },
  {
   "cell_type": "code",
   "execution_count": null,
   "id": "0225b8a7",
   "metadata": {},
   "outputs": [],
   "source": [
    "df.dropna(inplace=True, subset=[\"ArrDelay\"],[\"DepDelay\"])\n",
    "#quitamos los valores faltantes de lo que vamos a utilizar para \n",
    "#calcular el coeficiente de correlacion(no accepta valores faltantes)"
   ]
  },
  {
   "cell_type": "code",
   "execution_count": null,
   "id": "8b6097f7",
   "metadata": {},
   "outputs": [],
   "source": [
    "np.corrcoef(df[\"ArrDelay\"], df[\"DepDelay\"])\n",
    "#una medida de regresión que pretende cuantificar \n",
    "#el grado de variación conjunta entre dos variables."
   ]
  },
  {
   "cell_type": "code",
   "execution_count": null,
   "id": "e56d94d3",
   "metadata": {},
   "outputs": [],
   "source": [
    "df.drop(inplace=True, columns = [\"Year\", \"Cancelled\", \"Diverted\"])\n",
    "#eliminar constantes y variables dummies"
   ]
  },
  {
   "cell_type": "code",
   "execution_count": null,
   "id": "f98fdd7b",
   "metadata": {},
   "outputs": [],
   "source": [
    "df.corr()"
   ]
  },
  {
   "cell_type": "code",
   "execution_count": null,
   "id": "a8a7ad46",
   "metadata": {},
   "outputs": [],
   "source": [
    "corr = round(ds.corr(), 3) #rodendeamos el resultado a 3 decimales\n",
    "corr.style.background_gradient() #aplicamos estilo con degradado donde la correlacion es mas fuerte"
   ]
  }
 ],
 "metadata": {
  "kernelspec": {
   "display_name": "Python 3",
   "language": "python",
   "name": "python3"
  },
  "language_info": {
   "codemirror_mode": {
    "name": "ipython",
    "version": 3
   },
   "file_extension": ".py",
   "mimetype": "text/x-python",
   "name": "python",
   "nbconvert_exporter": "python",
   "pygments_lexer": "ipython3",
   "version": "3.8.8"
  }
 },
 "nbformat": 4,
 "nbformat_minor": 5
}
