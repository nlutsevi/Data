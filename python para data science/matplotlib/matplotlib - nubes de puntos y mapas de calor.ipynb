{
 "cells": [
  {
   "cell_type": "code",
   "execution_count": null,
   "id": "b6c39aa0",
   "metadata": {},
   "outputs": [],
   "source": [
    "import pandas as pd\n",
    "import numpy as np\n",
    "import matplotlib.pyplot as plt\n",
    "import seaborn as sns\n",
    "\n",
    "df = pd.read_csv(\"archivo\")\n",
    "df.dropna(inplace=True, subset=[\"ArrDelay\", \"DepDelay\", \"Distance\", \"Airtime\"])\n",
    "\n",
    "sns.set(rc={'figure.figsize':(15,10)}) #ajusta el tamaño del grfico"
   ]
  },
  {
   "cell_type": "code",
   "execution_count": null,
   "id": "cd0ba5bc",
   "metadata": {},
   "outputs": [],
   "source": [
    "df2 = df[df[\"Origin\"].isin([\"ATL\", \"HOU\", \"IND\"])].sample(frac=1).head(1000)\n",
    "#desordenamos el subsample y escogemos 1000\n",
    "sns.joinplot(df2[\"DepDelay\"], df2[\"ArrDelay\"])\n",
    "#mostrar nuve de puntos"
   ]
  },
  {
   "cell_type": "code",
   "execution_count": null,
   "id": "57aa54f0",
   "metadata": {},
   "outputs": [],
   "source": [
    "df3 = df2[np.as(df2[\"DepDelay\"])<40]\n",
    "df3 = df3[np.as(df3[\"ArrDelay\"])<40]"
   ]
  },
  {
   "cell_type": "code",
   "execution_count": null,
   "id": "ba854289",
   "metadata": {},
   "outputs": [],
   "source": [
    "sns.joinplot(df3[\"DepDelay\"], df3[\"ArrDelay\"], kind=\"hex\")"
   ]
  },
  {
   "cell_type": "code",
   "execution_count": null,
   "id": "54828eff",
   "metadata": {},
   "outputs": [],
   "source": [
    "sns.joinplot(df3[\"DepDelay\"], df3[\"ArrDelay\"], kind=\"kde\")"
   ]
  },
  {
   "cell_type": "code",
   "execution_count": null,
   "id": "3a8d3f98",
   "metadata": {},
   "outputs": [],
   "source": [
    "gb_df = pd.DataFrame(df2.groupby([\"Origin\", \"Month\"], as_index=False)[\"DepDelay\"\n",
    "].mean())\n",
    "gb_df.head()"
   ]
  },
  {
   "cell_type": "code",
   "execution_count": null,
   "id": "4dc2d4ab",
   "metadata": {},
   "outputs": [],
   "source": [
    "data = gb_df.pivot(\"Month\", \"Origin\", \"DepDelay\")\n",
    "data"
   ]
  },
  {
   "cell_type": "code",
   "execution_count": null,
   "id": "5551f7a9",
   "metadata": {},
   "outputs": [],
   "source": [
    "sns.set(rc={'figure.figsize':(15,8)}) #reajustamos el tamaño del gráfico\n",
    "sns.heatmap(data = data,annot=True, linewidths=.5)\n",
    "#creamos un heatmap - mapa de calor"
   ]
  }
 ],
 "metadata": {
  "kernelspec": {
   "display_name": "Python 3",
   "language": "python",
   "name": "python3"
  },
  "language_info": {
   "codemirror_mode": {
    "name": "ipython",
    "version": 3
   },
   "file_extension": ".py",
   "mimetype": "text/x-python",
   "name": "python",
   "nbconvert_exporter": "python",
   "pygments_lexer": "ipython3",
   "version": "3.8.8"
  }
 },
 "nbformat": 4,
 "nbformat_minor": 5
}
