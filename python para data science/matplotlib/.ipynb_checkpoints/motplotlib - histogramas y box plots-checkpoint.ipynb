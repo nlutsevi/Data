{
 "cells": [
  {
   "cell_type": "code",
   "execution_count": null,
   "id": "55569874",
   "metadata": {},
   "outputs": [],
   "source": [
    "import pandas as pd\n",
    "import numpy as np\n",
    "import matplotlib.pyplot as plt\n",
    "import seaborn as sns\n",
    "\n",
    "df = pd.read_csv(\"archivo\")"
   ]
  },
  {
   "cell_type": "code",
   "execution_count": null,
   "id": "68df1110",
   "metadata": {},
   "outputs": [],
   "source": [
    "df.dropna(inplace = True, subset = [\"ArrDelay\", \"DepDelay\", \"Distance\"])"
   ]
  },
  {
   "cell_type": "code",
   "execution_count": null,
   "id": "b2ed84d1",
   "metadata": {},
   "outputs": [],
   "source": [
    "sns.distplot(df[\"Destance\"], beans=100) #histograma clásico"
   ]
  },
  {
   "cell_type": "code",
   "execution_count": null,
   "id": "8e9ecb65",
   "metadata": {},
   "outputs": [],
   "source": [
    "sns.kdeplot(df[\"ArrDelay\"])\n",
    "sns.kdeplot(df[\"DepDelay\"])\n",
    "plt.xlim([-300, 300])"
   ]
  },
  {
   "cell_type": "code",
   "execution_count": null,
   "id": "5fef9f50",
   "metadata": {},
   "outputs": [],
   "source": [
    "df2 = df[df[\"Origin\"].isin([\"ATL\", \"HOU\", \"IND\"])].sample(frac=1).head(500)"
   ]
  },
  {
   "cell_type": "code",
   "execution_count": null,
   "id": "fd79f40e",
   "metadata": {},
   "outputs": [],
   "source": [
    "sns.boxplot(x=\"DepDelay\", y=\"Origin\", data = df2) #boxplot\n",
    "plt.xlim([-50,50]) #filtrar"
   ]
  }
 ],
 "metadata": {
  "kernelspec": {
   "display_name": "Python 3",
   "language": "python",
   "name": "python3"
  },
  "language_info": {
   "codemirror_mode": {
    "name": "ipython",
    "version": 3
   },
   "file_extension": ".py",
   "mimetype": "text/x-python",
   "name": "python",
   "nbconvert_exporter": "python",
   "pygments_lexer": "ipython3",
   "version": "3.8.8"
  }
 },
 "nbformat": 4,
 "nbformat_minor": 5
}
