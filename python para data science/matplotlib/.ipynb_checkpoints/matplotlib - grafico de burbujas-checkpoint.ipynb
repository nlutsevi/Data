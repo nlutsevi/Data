{
 "cells": [
  {
   "cell_type": "code",
   "execution_count": null,
   "id": "874f856d",
   "metadata": {},
   "outputs": [],
   "source": [
    "import numoy as np\n",
    "import seaborn as sns\n",
    "import matplotlib.pyplot as plt\n",
    "import pandas as pd\n",
    "np.random.seed(0)\n",
    "\n",
    "df = pd.read_csv(\"archivo\", nrows=100000)\n",
    "df = df.sample(frac = 1).head()"
   ]
  },
  {
   "cell_type": "code",
   "execution_count": null,
   "id": "56bd5d95",
   "metadata": {},
   "outputs": [],
   "source": [
    "plt.scatter(x=df.DayodMonth, y= df.ArrDelay, s=df.Distance)"
   ]
  },
  {
   "cell_type": "code",
   "execution_count": null,
   "id": "ad451dc5",
   "metadata": {},
   "outputs": [],
   "source": [
    "plt.scatter(x=df.DayodMonth, y= df.ArrDelay, s=df.Distance,\n",
    "           alpha = .3, c = df.DayofWeek.isin([6,7])) \n",
    "#alpha para la traslucidez\n",
    "#df.DayofWeek.isin([6,7]) para ver los fines de semana en otro color"
   ]
  },
  {
   "cell_type": "code",
   "execution_count": null,
   "id": "6bbb2d9a",
   "metadata": {},
   "outputs": [],
   "source": [
    "plt.title(\"Retrasos de EEUU\")\n",
    "plt.xlabel(s=\"Día del mes\")\n",
    "plt.ylabel(s=\"Retraso al llegar\")\n",
    "plt.ylim([0,150]) #limite para el eje y\n",
    "plt.xtics([0, 15, 30]) #cambiar el número de marcas del eje x\n",
    "plt.text(x=28, y=120, 2=\"Mi vuelo\") #añadir texto al gráfico\n",
    "plt.show()"
   ]
  }
 ],
 "metadata": {
  "kernelspec": {
   "display_name": "Python 3",
   "language": "python",
   "name": "python3"
  },
  "language_info": {
   "codemirror_mode": {
    "name": "ipython",
    "version": 3
   },
   "file_extension": ".py",
   "mimetype": "text/x-python",
   "name": "python",
   "nbconvert_exporter": "python",
   "pygments_lexer": "ipython3",
   "version": "3.8.8"
  }
 },
 "nbformat": 4,
 "nbformat_minor": 5
}
