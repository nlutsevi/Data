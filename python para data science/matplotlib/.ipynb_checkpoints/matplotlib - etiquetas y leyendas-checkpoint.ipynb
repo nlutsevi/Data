{
 "cells": [
  {
   "cell_type": "code",
   "execution_count": null,
   "id": "877e2a05",
   "metadata": {},
   "outputs": [],
   "source": [
    "import numpy as np\n",
    "import seaborn as sns\n",
    "import matplotlib.pyplot as plt\n",
    "import pandas as pd\n",
    "\n",
    "df = pd.read_csv(\"archivo\", brows=100000)\n",
    "data = np.unique(df.DayofWeek, return_counts=True)\n",
    "\n",
    "labs = [\"Lun\", \"Mar\", \"Mie\", \"Jue\", \"Vie\", \"Sab\", \"Dom\"]\n",
    "data"
   ]
  },
  {
   "cell_type": "code",
   "execution_count": null,
   "id": "be22d1d6",
   "metadata": {},
   "outputs": [],
   "source": [
    "plt.pie(x = data[1],\n",
    "       labels=labs, #etiquetas creadas arriba\n",
    "       radius=1.5,\n",
    "       colors= sns.colors_pallete(\"hls\",7),\n",
    "        explode=(0,0,0,0,0,0,0.1), #para extraer quesitos a fuera\n",
    "       startangle = 90,\n",
    "       autopct= \"%1.1f%%\", #añade el porcentaje \n",
    "       )\n",
    "plt.legend(loc=\"best\", labels = labs) #añade la leyenda\n",
    "plt.show()"
   ]
  },
  {
   "cell_type": "code",
   "execution_count": null,
   "id": "181a91f1",
   "metadata": {},
   "outputs": [],
   "source": [
    "plt = sns.barplot(x = labs, y = data[1])\n",
    "plt.set(xlabel = \"Día de la semana\", ylabel = \"Numero de vuelos\")"
   ]
  }
 ],
 "metadata": {
  "kernelspec": {
   "display_name": "Python 3",
   "language": "python",
   "name": "python3"
  },
  "language_info": {
   "codemirror_mode": {
    "name": "ipython",
    "version": 3
   },
   "file_extension": ".py",
   "mimetype": "text/x-python",
   "name": "python",
   "nbconvert_exporter": "python",
   "pygments_lexer": "ipython3",
   "version": "3.8.8"
  }
 },
 "nbformat": 4,
 "nbformat_minor": 5
}
