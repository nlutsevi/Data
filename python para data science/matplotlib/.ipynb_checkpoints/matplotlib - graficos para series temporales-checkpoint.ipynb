{
 "cells": [
  {
   "cell_type": "code",
   "execution_count": null,
   "id": "ec36b3f7",
   "metadata": {},
   "outputs": [],
   "source": [
    "import pandas as pd\n",
    "import seaborn as sns\n",
    "import numpy as np\n",
    "import datetime\n",
    "import time\n",
    "\n",
    "df = pd.read_csv(\"archivo\")\n",
    "df2 = df[df[\"Origin\"].isin([\"ATL\", \"HOU\", \"IND\"])]\n",
    "df = df.head(500000)"
   ]
  },
  {
   "cell_type": "code",
   "execution_count": null,
   "id": "ec1ed0cb",
   "metadata": {},
   "outputs": [],
   "source": [
    "times = []\n",
    "for i in np.arange(len(df)):\n",
    "    times.append(datetime.datetime(year = 2008, month = df.loc[i, \"Month\"],\n",
    "                                  day = df.loc[i, \"DayofMonth\"]))"
   ]
  },
  {
   "cell_type": "code",
   "execution_count": null,
   "id": "58abb968",
   "metadata": {},
   "outputs": [],
   "source": [
    "times[50000]"
   ]
  },
  {
   "cell_type": "code",
   "execution_count": null,
   "id": "b0a52ec8",
   "metadata": {},
   "outputs": [],
   "source": [
    "df[\"Time\"] = times"
   ]
  },
  {
   "cell_type": "code",
   "execution_count": null,
   "id": "51b30495",
   "metadata": {},
   "outputs": [],
   "source": [
    "data = df.groupby(by=[\"Time\"], as_index=False)[\"DepDelay\", \"ArrDelay\"].mean()\n",
    "data.head()"
   ]
  },
  {
   "cell_type": "code",
   "execution_count": null,
   "id": "a78f3d00",
   "metadata": {},
   "outputs": [],
   "source": [
    "sns.lineplot(data[\"Time\"], data[\"DepDelay\"])"
   ]
  },
  {
   "cell_type": "code",
   "execution_count": null,
   "id": "3b118631",
   "metadata": {},
   "outputs": [],
   "source": [
    "data = df.groupby(by=[\"Time\"])[\"DepDelay\", \"ArrDelay\"].mean()\n",
    "data.head()"
   ]
  },
  {
   "cell_type": "code",
   "execution_count": null,
   "id": "9f3a4713",
   "metadata": {},
   "outputs": [],
   "source": [
    "sns.lineplot(data = data)"
   ]
  },
  {
   "cell_type": "code",
   "execution_count": null,
   "id": "97c73782",
   "metadata": {},
   "outputs": [],
   "source": [
    "times = []\n",
    "for i in df2.index:\n",
    "    times.append(datetime.datetime(year = 2008, month = df2.loc[i, \"Month\"],\n",
    "                                  day = df2.loc[i, \"DayofMonth\"]))"
   ]
  },
  {
   "cell_type": "code",
   "execution_count": null,
   "id": "e0252d7c",
   "metadata": {},
   "outputs": [],
   "source": [
    "sns.set(rc={'figure.figsize':(15,10)})\n",
    "sns.lineplot(x=\"Time\", y =\"ArrDelay\", hue=\"Origin\", data=df2)"
   ]
  }
 ],
 "metadata": {
  "kernelspec": {
   "display_name": "Python 3",
   "language": "python",
   "name": "python3"
  },
  "language_info": {
   "codemirror_mode": {
    "name": "ipython",
    "version": 3
   },
   "file_extension": ".py",
   "mimetype": "text/x-python",
   "name": "python",
   "nbconvert_exporter": "python",
   "pygments_lexer": "ipython3",
   "version": "3.8.8"
  }
 },
 "nbformat": 4,
 "nbformat_minor": 5
}
